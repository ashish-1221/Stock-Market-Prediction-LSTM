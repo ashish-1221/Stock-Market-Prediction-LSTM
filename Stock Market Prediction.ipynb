{
 "cells": [
  {
   "cell_type": "markdown",
   "source": [
    "## Stock Market price Prediction using Stacked LSTMs\n",
    "Suppose we want to make money buying a stock. Since we'll want to make money buying stocking we need to predict the price of stock of the company we want to buy tomorrow. So we will create a machine learning algorithm that will show what may be the value of the stock tomorrow, depending upon which we may want to buy or short the stock to make money.\n",
    "\n",
    "In this case, we are focusing on the stock price of the APPLE company. We will predict the price of the apple company for the next 30 days based on the value of it's stock price previous 100 days.\n",
    "\n",
    "As we will be predicting the price of stocks based on it's history we will be using LSTMs network. LSTMs are capable long term dependencies.It is capable of handling vanishing gradient problem faced by RNNs.\n",
    "\n",
    "All in after building the model, and predicting the price of the stock for the next 30 days, we will deploy it using streamlit."
   ],
   "metadata": {
    "collapsed": false
   }
  },
  {
   "cell_type": "markdown",
   "source": [
    "### Method\n",
    "- Download the historical data from tiingo API\n",
    "- Explore the data\n",
    "- Setup the dataset to predict the future historical prices\n",
    "- Test a machine learning model\n",
    "- Predict the price of the stock for the future 30 days."
   ],
   "metadata": {
    "collapsed": false
   }
  },
  {
   "cell_type": "markdown",
   "source": [
    "### Data Collection\n",
    "\n",
    "Data is collected from tingoo API using the pandas_datareader library. We will need an API to download the stock information of AAPl company. The data gotten through the API is then converted into csv format for easier calculation."
   ],
   "metadata": {
    "collapsed": false
   }
  },
  {
   "cell_type": "code",
   "execution_count": null,
   "outputs": [],
   "source": [
    "!pip install pandas-datareader"
   ],
   "metadata": {
    "collapsed": false
   }
  },
  {
   "cell_type": "code",
   "execution_count": 146,
   "outputs": [],
   "source": [
    "import pandas_datareader as pdr"
   ],
   "metadata": {
    "collapsed": false
   }
  },
  {
   "cell_type": "code",
   "execution_count": 147,
   "outputs": [
    {
     "name": "stderr",
     "output_type": "stream",
     "text": [
      "C:\\Users\\ASUS\\anaconda3\\lib\\site-packages\\pandas_datareader\\tiingo.py:234: FutureWarning: In a future version of pandas all arguments of concat except for the argument 'objs' will be keyword-only.\n",
      "  return pd.concat(dfs, self._concat_axis)\n"
     ]
    }
   ],
   "source": [
    "df = pdr.get_data_tiingo(\"AAPL\",api_key = 'ba9ee346c09c22920c0e869b31a24db7f6cc1051')"
   ],
   "metadata": {
    "collapsed": false
   }
  },
  {
   "cell_type": "code",
   "execution_count": 148,
   "outputs": [
    {
     "data": {
      "text/plain": "                                   close    high       low     open  \\\nsymbol date                                                           \nAAPL   2022-10-05 00:00:00+00:00  146.40  147.38  143.0100  144.075   \n       2022-10-06 00:00:00+00:00  145.43  147.54  145.2200  145.810   \n       2022-10-07 00:00:00+00:00  140.09  143.10  139.4450  142.540   \n       2022-10-10 00:00:00+00:00  140.42  141.89  138.5729  140.420   \n       2022-10-11 00:00:00+00:00  138.98  141.35  138.2200  139.900   \n       2022-10-12 00:00:00+00:00  138.34  140.36  138.1600  139.130   \n       2022-10-13 00:00:00+00:00  142.99  143.59  134.3700  134.990   \n       2022-10-14 00:00:00+00:00  138.38  144.52  138.1900  144.310   \n       2022-10-17 00:00:00+00:00  142.41  142.90  140.2700  141.065   \n       2022-10-18 00:00:00+00:00  143.75  146.70  140.6100  145.490   \n\n                                     volume  adjClose  adjHigh    adjLow  \\\nsymbol date                                                                \nAAPL   2022-10-05 00:00:00+00:00   79470968    146.40   147.38  143.0100   \n       2022-10-06 00:00:00+00:00   68402169    145.43   147.54  145.2200   \n       2022-10-07 00:00:00+00:00   85925559    140.09   143.10  139.4450   \n       2022-10-10 00:00:00+00:00   74899002    140.42   141.89  138.5729   \n       2022-10-11 00:00:00+00:00   77033672    138.98   141.35  138.2200   \n       2022-10-12 00:00:00+00:00   70433744    138.34   140.36  138.1600   \n       2022-10-13 00:00:00+00:00  113223975    142.99   143.59  134.3700   \n       2022-10-14 00:00:00+00:00   88597969    138.38   144.52  138.1900   \n       2022-10-17 00:00:00+00:00   85250939    142.41   142.90  140.2700   \n       2022-10-18 00:00:00+00:00   98702752    143.75   146.70  140.6100   \n\n                                  adjOpen  adjVolume  divCash  splitFactor  \nsymbol date                                                                 \nAAPL   2022-10-05 00:00:00+00:00  144.075   79470968      0.0          1.0  \n       2022-10-06 00:00:00+00:00  145.810   68402169      0.0          1.0  \n       2022-10-07 00:00:00+00:00  142.540   85925559      0.0          1.0  \n       2022-10-10 00:00:00+00:00  140.420   74899002      0.0          1.0  \n       2022-10-11 00:00:00+00:00  139.900   77033672      0.0          1.0  \n       2022-10-12 00:00:00+00:00  139.130   70433744      0.0          1.0  \n       2022-10-13 00:00:00+00:00  134.990  113223975      0.0          1.0  \n       2022-10-14 00:00:00+00:00  144.310   88597969      0.0          1.0  \n       2022-10-17 00:00:00+00:00  141.065   85250939      0.0          1.0  \n       2022-10-18 00:00:00+00:00  145.490   98702752      0.0          1.0  ",
      "text/html": "<div>\n<style scoped>\n    .dataframe tbody tr th:only-of-type {\n        vertical-align: middle;\n    }\n\n    .dataframe tbody tr th {\n        vertical-align: top;\n    }\n\n    .dataframe thead th {\n        text-align: right;\n    }\n</style>\n<table border=\"1\" class=\"dataframe\">\n  <thead>\n    <tr style=\"text-align: right;\">\n      <th></th>\n      <th></th>\n      <th>close</th>\n      <th>high</th>\n      <th>low</th>\n      <th>open</th>\n      <th>volume</th>\n      <th>adjClose</th>\n      <th>adjHigh</th>\n      <th>adjLow</th>\n      <th>adjOpen</th>\n      <th>adjVolume</th>\n      <th>divCash</th>\n      <th>splitFactor</th>\n    </tr>\n    <tr>\n      <th>symbol</th>\n      <th>date</th>\n      <th></th>\n      <th></th>\n      <th></th>\n      <th></th>\n      <th></th>\n      <th></th>\n      <th></th>\n      <th></th>\n      <th></th>\n      <th></th>\n      <th></th>\n      <th></th>\n    </tr>\n  </thead>\n  <tbody>\n    <tr>\n      <th rowspan=\"10\" valign=\"top\">AAPL</th>\n      <th>2022-10-05 00:00:00+00:00</th>\n      <td>146.40</td>\n      <td>147.38</td>\n      <td>143.0100</td>\n      <td>144.075</td>\n      <td>79470968</td>\n      <td>146.40</td>\n      <td>147.38</td>\n      <td>143.0100</td>\n      <td>144.075</td>\n      <td>79470968</td>\n      <td>0.0</td>\n      <td>1.0</td>\n    </tr>\n    <tr>\n      <th>2022-10-06 00:00:00+00:00</th>\n      <td>145.43</td>\n      <td>147.54</td>\n      <td>145.2200</td>\n      <td>145.810</td>\n      <td>68402169</td>\n      <td>145.43</td>\n      <td>147.54</td>\n      <td>145.2200</td>\n      <td>145.810</td>\n      <td>68402169</td>\n      <td>0.0</td>\n      <td>1.0</td>\n    </tr>\n    <tr>\n      <th>2022-10-07 00:00:00+00:00</th>\n      <td>140.09</td>\n      <td>143.10</td>\n      <td>139.4450</td>\n      <td>142.540</td>\n      <td>85925559</td>\n      <td>140.09</td>\n      <td>143.10</td>\n      <td>139.4450</td>\n      <td>142.540</td>\n      <td>85925559</td>\n      <td>0.0</td>\n      <td>1.0</td>\n    </tr>\n    <tr>\n      <th>2022-10-10 00:00:00+00:00</th>\n      <td>140.42</td>\n      <td>141.89</td>\n      <td>138.5729</td>\n      <td>140.420</td>\n      <td>74899002</td>\n      <td>140.42</td>\n      <td>141.89</td>\n      <td>138.5729</td>\n      <td>140.420</td>\n      <td>74899002</td>\n      <td>0.0</td>\n      <td>1.0</td>\n    </tr>\n    <tr>\n      <th>2022-10-11 00:00:00+00:00</th>\n      <td>138.98</td>\n      <td>141.35</td>\n      <td>138.2200</td>\n      <td>139.900</td>\n      <td>77033672</td>\n      <td>138.98</td>\n      <td>141.35</td>\n      <td>138.2200</td>\n      <td>139.900</td>\n      <td>77033672</td>\n      <td>0.0</td>\n      <td>1.0</td>\n    </tr>\n    <tr>\n      <th>2022-10-12 00:00:00+00:00</th>\n      <td>138.34</td>\n      <td>140.36</td>\n      <td>138.1600</td>\n      <td>139.130</td>\n      <td>70433744</td>\n      <td>138.34</td>\n      <td>140.36</td>\n      <td>138.1600</td>\n      <td>139.130</td>\n      <td>70433744</td>\n      <td>0.0</td>\n      <td>1.0</td>\n    </tr>\n    <tr>\n      <th>2022-10-13 00:00:00+00:00</th>\n      <td>142.99</td>\n      <td>143.59</td>\n      <td>134.3700</td>\n      <td>134.990</td>\n      <td>113223975</td>\n      <td>142.99</td>\n      <td>143.59</td>\n      <td>134.3700</td>\n      <td>134.990</td>\n      <td>113223975</td>\n      <td>0.0</td>\n      <td>1.0</td>\n    </tr>\n    <tr>\n      <th>2022-10-14 00:00:00+00:00</th>\n      <td>138.38</td>\n      <td>144.52</td>\n      <td>138.1900</td>\n      <td>144.310</td>\n      <td>88597969</td>\n      <td>138.38</td>\n      <td>144.52</td>\n      <td>138.1900</td>\n      <td>144.310</td>\n      <td>88597969</td>\n      <td>0.0</td>\n      <td>1.0</td>\n    </tr>\n    <tr>\n      <th>2022-10-17 00:00:00+00:00</th>\n      <td>142.41</td>\n      <td>142.90</td>\n      <td>140.2700</td>\n      <td>141.065</td>\n      <td>85250939</td>\n      <td>142.41</td>\n      <td>142.90</td>\n      <td>140.2700</td>\n      <td>141.065</td>\n      <td>85250939</td>\n      <td>0.0</td>\n      <td>1.0</td>\n    </tr>\n    <tr>\n      <th>2022-10-18 00:00:00+00:00</th>\n      <td>143.75</td>\n      <td>146.70</td>\n      <td>140.6100</td>\n      <td>145.490</td>\n      <td>98702752</td>\n      <td>143.75</td>\n      <td>146.70</td>\n      <td>140.6100</td>\n      <td>145.490</td>\n      <td>98702752</td>\n      <td>0.0</td>\n      <td>1.0</td>\n    </tr>\n  </tbody>\n</table>\n</div>"
     },
     "execution_count": 148,
     "metadata": {},
     "output_type": "execute_result"
    }
   ],
   "source": [
    "df.tail(10)"
   ],
   "metadata": {
    "collapsed": false
   }
  },
  {
   "cell_type": "code",
   "execution_count": 149,
   "outputs": [],
   "source": [
    "df.to_csv('AAPL.csv')"
   ],
   "metadata": {
    "collapsed": false
   }
  },
  {
   "cell_type": "code",
   "execution_count": 150,
   "outputs": [],
   "source": [
    "import pandas as pd"
   ],
   "metadata": {
    "collapsed": false
   }
  },
  {
   "cell_type": "code",
   "execution_count": 151,
   "outputs": [],
   "source": [
    "df = pd.read_csv('AAPL.csv')"
   ],
   "metadata": {
    "collapsed": false
   }
  },
  {
   "cell_type": "code",
   "execution_count": 152,
   "outputs": [
    {
     "data": {
      "text/plain": "  symbol                       date   close      high     low    open  \\\n0   AAPL  2017-10-20 00:00:00+00:00  156.25  157.7500  155.96  156.61   \n1   AAPL  2017-10-23 00:00:00+00:00  156.17  157.6900  155.50  156.89   \n2   AAPL  2017-10-24 00:00:00+00:00  157.10  157.4200  156.20  156.29   \n3   AAPL  2017-10-25 00:00:00+00:00  156.41  157.5500  155.27  156.91   \n4   AAPL  2017-10-26 00:00:00+00:00  157.41  157.8295  156.78  157.23   \n\n     volume   adjClose    adjHigh     adjLow    adjOpen  adjVolume  divCash  \\\n0  23612246  37.070835  37.426715  37.002031  37.156246   94448984      0.0   \n1  21654461  37.051855  37.412480  36.892895  37.222677   86617844      0.0   \n2  17137731  37.272500  37.348421  37.058972  37.080325   68550924      0.0   \n3  20126554  37.108795  37.379264  36.838327  37.227422   80506216      0.0   \n4  16751691  37.346049  37.445577  37.196579  37.303343   67006764      0.0   \n\n   splitFactor  \n0          1.0  \n1          1.0  \n2          1.0  \n3          1.0  \n4          1.0  ",
      "text/html": "<div>\n<style scoped>\n    .dataframe tbody tr th:only-of-type {\n        vertical-align: middle;\n    }\n\n    .dataframe tbody tr th {\n        vertical-align: top;\n    }\n\n    .dataframe thead th {\n        text-align: right;\n    }\n</style>\n<table border=\"1\" class=\"dataframe\">\n  <thead>\n    <tr style=\"text-align: right;\">\n      <th></th>\n      <th>symbol</th>\n      <th>date</th>\n      <th>close</th>\n      <th>high</th>\n      <th>low</th>\n      <th>open</th>\n      <th>volume</th>\n      <th>adjClose</th>\n      <th>adjHigh</th>\n      <th>adjLow</th>\n      <th>adjOpen</th>\n      <th>adjVolume</th>\n      <th>divCash</th>\n      <th>splitFactor</th>\n    </tr>\n  </thead>\n  <tbody>\n    <tr>\n      <th>0</th>\n      <td>AAPL</td>\n      <td>2017-10-20 00:00:00+00:00</td>\n      <td>156.25</td>\n      <td>157.7500</td>\n      <td>155.96</td>\n      <td>156.61</td>\n      <td>23612246</td>\n      <td>37.070835</td>\n      <td>37.426715</td>\n      <td>37.002031</td>\n      <td>37.156246</td>\n      <td>94448984</td>\n      <td>0.0</td>\n      <td>1.0</td>\n    </tr>\n    <tr>\n      <th>1</th>\n      <td>AAPL</td>\n      <td>2017-10-23 00:00:00+00:00</td>\n      <td>156.17</td>\n      <td>157.6900</td>\n      <td>155.50</td>\n      <td>156.89</td>\n      <td>21654461</td>\n      <td>37.051855</td>\n      <td>37.412480</td>\n      <td>36.892895</td>\n      <td>37.222677</td>\n      <td>86617844</td>\n      <td>0.0</td>\n      <td>1.0</td>\n    </tr>\n    <tr>\n      <th>2</th>\n      <td>AAPL</td>\n      <td>2017-10-24 00:00:00+00:00</td>\n      <td>157.10</td>\n      <td>157.4200</td>\n      <td>156.20</td>\n      <td>156.29</td>\n      <td>17137731</td>\n      <td>37.272500</td>\n      <td>37.348421</td>\n      <td>37.058972</td>\n      <td>37.080325</td>\n      <td>68550924</td>\n      <td>0.0</td>\n      <td>1.0</td>\n    </tr>\n    <tr>\n      <th>3</th>\n      <td>AAPL</td>\n      <td>2017-10-25 00:00:00+00:00</td>\n      <td>156.41</td>\n      <td>157.5500</td>\n      <td>155.27</td>\n      <td>156.91</td>\n      <td>20126554</td>\n      <td>37.108795</td>\n      <td>37.379264</td>\n      <td>36.838327</td>\n      <td>37.227422</td>\n      <td>80506216</td>\n      <td>0.0</td>\n      <td>1.0</td>\n    </tr>\n    <tr>\n      <th>4</th>\n      <td>AAPL</td>\n      <td>2017-10-26 00:00:00+00:00</td>\n      <td>157.41</td>\n      <td>157.8295</td>\n      <td>156.78</td>\n      <td>157.23</td>\n      <td>16751691</td>\n      <td>37.346049</td>\n      <td>37.445577</td>\n      <td>37.196579</td>\n      <td>37.303343</td>\n      <td>67006764</td>\n      <td>0.0</td>\n      <td>1.0</td>\n    </tr>\n  </tbody>\n</table>\n</div>"
     },
     "execution_count": 152,
     "metadata": {},
     "output_type": "execute_result"
    }
   ],
   "source": [
    "df.head()"
   ],
   "metadata": {
    "collapsed": false
   }
  },
  {
   "cell_type": "code",
   "execution_count": 153,
   "outputs": [],
   "source": [
    "df1 = df.reset_index()['close']"
   ],
   "metadata": {
    "collapsed": false
   }
  },
  {
   "cell_type": "code",
   "execution_count": 154,
   "outputs": [
    {
     "data": {
      "text/plain": "0    156.25\n1    156.17\n2    157.10\n3    156.41\n4    157.41\nName: close, dtype: float64"
     },
     "execution_count": 154,
     "metadata": {},
     "output_type": "execute_result"
    }
   ],
   "source": [
    "df1.head()"
   ],
   "metadata": {
    "collapsed": false
   }
  },
  {
   "cell_type": "code",
   "execution_count": 155,
   "outputs": [
    {
     "data": {
      "text/plain": "[<matplotlib.lines.Line2D at 0x243e9fe8520>]"
     },
     "execution_count": 155,
     "metadata": {},
     "output_type": "execute_result"
    },
    {
     "data": {
      "text/plain": "<Figure size 432x288 with 1 Axes>",
      "image/png": "[encoded data removed]"
     },
     "metadata": {
      "needs_background": "light"
     },
     "output_type": "display_data"
    }
   ],
   "source": [
    "import matplotlib.pyplot as plt\n",
    "plt.plot(df1)"
   ],
   "metadata": {
    "collapsed": false
   }
  },
  {
   "cell_type": "markdown",
   "source": [
    "### Scaling of the Data"
   ],
   "metadata": {
    "collapsed": false
   }
  },
  {
   "cell_type": "markdown",
   "source": [
    "As the LSTMs are sensitive to the state of the input data. It is good practice to rescale the data to the range of 0-1, called as normalizing. In this case we have used MinMaxScaler() to normalise the stock prices of the data."
   ],
   "metadata": {
    "collapsed": false
   }
  },
  {
   "cell_type": "code",
   "execution_count": null,
   "outputs": [],
   "source": [
    "### LSTM are sensitive to the scale of the data. so we apply minmax scaler"
   ],
   "metadata": {
    "collapsed": false
   }
  },
  {
   "cell_type": "code",
   "execution_count": 156,
   "outputs": [],
   "source": [
    "import numpy as np\n",
    "from sklearn.preprocessing import MinMaxScaler\n",
    "scaler = MinMaxScaler(feature_range=(0,1))\n",
    "df1 = scaler.fit_transform(np.array(df1).reshape(-1,1))"
   ],
   "metadata": {
    "collapsed": false
   }
  },
  {
   "cell_type": "code",
   "execution_count": 157,
   "outputs": [
    {
     "data": {
      "text/plain": "array([[0.12375704],\n       [0.12355667],\n       [0.12588604],\n       ...,\n       [0.07899812],\n       [0.08909205],\n       [0.09244834]])"
     },
     "execution_count": 157,
     "metadata": {},
     "output_type": "execute_result"
    }
   ],
   "source": [
    "df1"
   ],
   "metadata": {
    "collapsed": false
   }
  },
  {
   "cell_type": "markdown",
   "source": [
    "### Test Train Split\n",
    "\n",
    "In the case of time-series data it is not good to use cross-validation for train-test split. As in this case the sequence of values is very important. In this case we split the training data with 65% of the observations, leaving the remainder 35% for testing."
   ],
   "metadata": {
    "collapsed": false
   }
  },
  {
   "cell_type": "code",
   "execution_count": 158,
   "outputs": [],
   "source": [
    "# splitting dataset into train and test dataset\n",
    "training_size = int(len(df1)*0.65)\n",
    "test_size = int (len(df1)*0.35)\n",
    "train_data,test_data = df1[0:training_size,:],df1[training_size:len(df1),:1]"
   ],
   "metadata": {
    "collapsed": false
   }
  },
  {
   "cell_type": "code",
   "execution_count": 159,
   "outputs": [
    {
     "data": {
      "text/plain": "array([[1.23757044e-01],\n       [1.23556669e-01],\n       [1.25886036e-01],\n       [1.24157796e-01],\n       [1.26662492e-01],\n       [1.40788979e-01],\n       [1.49981215e-01],\n       [1.55792110e-01],\n       [1.50407013e-01],\n       [1.53462743e-01],\n       [1.64458359e-01],\n       [1.68841578e-01],\n       [1.70244208e-01],\n       [1.73825924e-01],\n       [1.72924233e-01],\n       [1.69893550e-01],\n       [1.68140263e-01],\n       [1.61552912e-01],\n       [1.55892298e-01],\n       [1.60951785e-01],\n       [1.58572323e-01],\n       [1.58146525e-01],\n       [1.66061365e-01],\n       [1.70619912e-01],\n       [1.70644959e-01],\n       [1.68440827e-01],\n       [1.65886036e-01],\n       [1.56894177e-01],\n       [1.62830307e-01],\n       [1.60826550e-01],\n       [1.57695679e-01],\n       [1.57294928e-01],\n       [1.55716969e-01],\n       [1.56493425e-01],\n       [1.56618660e-01],\n       [1.64884158e-01],\n       [1.62454602e-01],\n       [1.63882279e-01],\n       [1.63757044e-01],\n       [1.68140263e-01],\n       [1.74276769e-01],\n       [1.69567940e-01],\n       [1.69092048e-01],\n       [1.70745147e-01],\n       [1.70745147e-01],\n       [1.59624296e-01],\n       [1.59699436e-01],\n       [1.60901691e-01],\n       [1.56268003e-01],\n       [1.63857232e-01],\n       [1.63782091e-01],\n       [1.65785848e-01],\n       [1.70720100e-01],\n       [1.69092048e-01],\n       [1.69041954e-01],\n       [1.68941766e-01],\n       [1.71421415e-01],\n       [1.75954915e-01],\n       [1.73700689e-01],\n       [1.80989355e-01],\n       [1.81390106e-01],\n       [1.79386349e-01],\n       [1.75729493e-01],\n       [1.75829681e-01],\n       [1.68766437e-01],\n       [1.60976832e-01],\n       [1.61978710e-01],\n       [1.53087038e-01],\n       [1.50607389e-01],\n       [1.51759549e-01],\n       [1.52636193e-01],\n       [1.34402004e-01],\n       [1.24358172e-01],\n       [1.40738885e-01],\n       [1.31997495e-01],\n       [1.21001879e-01],\n       [1.24157796e-01],\n       [1.39937383e-01],\n       [1.44020038e-01],\n       [1.51609267e-01],\n       [1.65685661e-01],\n       [1.64283031e-01],\n       [1.62830307e-01],\n       [1.60876644e-01],\n       [1.64458359e-01],\n       [1.71972448e-01],\n       [1.80663745e-01],\n       [1.79211021e-01],\n       [1.78534753e-01],\n       [1.70720100e-01],\n       [1.73750783e-01],\n       [1.75278647e-01],\n       [1.74902943e-01],\n       [1.70795241e-01],\n       [1.75579211e-01],\n       [1.83193488e-01],\n       [1.87551659e-01],\n       [1.83168441e-01],\n       [1.79336255e-01],\n       [1.79862242e-01],\n       [1.78284283e-01],\n       [1.71471509e-01],\n       [1.71321227e-01],\n       [1.61377583e-01],\n       [1.55316218e-01],\n       [1.45522855e-01],\n       [1.65134627e-01],\n       [1.54038823e-01],\n       [1.49380088e-01],\n       [1.52636193e-01],\n       [1.49881027e-01],\n       [1.54164058e-01],\n       [1.62229180e-01],\n       [1.65209768e-01],\n       [1.54139011e-01],\n       [1.58321853e-01],\n       [1.66336882e-01],\n       [1.64308078e-01],\n       [1.68566061e-01],\n       [1.70043832e-01],\n       [1.72773951e-01],\n       [1.78835316e-01],\n       [1.77833438e-01],\n       [1.65209768e-01],\n       [1.47476518e-01],\n       [1.46274264e-01],\n       [1.40513463e-01],\n       [1.42291797e-01],\n       [1.43719474e-01],\n       [1.38960551e-01],\n       [1.46324358e-01],\n       [1.55942392e-01],\n       [1.74652473e-01],\n       [1.75453976e-01],\n       [1.92836569e-01],\n       [1.96167815e-01],\n       [1.98396994e-01],\n       [2.01678147e-01],\n       [2.08390733e-01],\n       [2.04758923e-01],\n       [2.03656857e-01],\n       [1.99373826e-01],\n       [2.03731997e-01],\n       [2.00751409e-01],\n       [1.99048215e-01],\n       [2.02354415e-01],\n       [2.01177207e-01],\n       [2.04182843e-01],\n       [2.03656857e-01],\n       [2.04733876e-01],\n       [2.03030683e-01],\n       [2.02028804e-01],\n       [2.00450845e-01],\n       [2.08891672e-01],\n       [2.12874139e-01],\n       [2.16581090e-01],\n       [2.18259236e-01],\n       [2.16956794e-01],\n       [2.12548528e-01],\n       [2.11371321e-01],\n       [2.14001252e-01],\n       [2.10043832e-01],\n       [2.10294302e-01],\n       [2.05385097e-01],\n       [2.05134627e-01],\n       [1.97495304e-01],\n       [1.99524108e-01],\n       [1.96919224e-01],\n       [1.95566688e-01],\n       [1.88678773e-01],\n       [1.94339386e-01],\n       [1.93663118e-01],\n       [1.97019411e-01],\n       [1.96042580e-01],\n       [2.01227301e-01],\n       [1.93061991e-01],\n       [1.96768942e-01],\n       [2.03206011e-01],\n       [2.09743269e-01],\n       [2.09167188e-01],\n       [2.02980589e-01],\n       [2.10870382e-01],\n       [2.11621791e-01],\n       [2.10569818e-01],\n       [2.11922354e-01],\n       [2.09292423e-01],\n       [2.12999374e-01],\n       [2.11897307e-01],\n       [2.12323106e-01],\n       [2.15804634e-01],\n       [2.20363181e-01],\n       [2.18835316e-01],\n       [2.10745147e-01],\n       [2.08065122e-01],\n       [2.09016907e-01],\n       [2.37094552e-01],\n       [2.51847214e-01],\n       [2.53350031e-01],\n       [2.56055103e-01],\n       [2.51145899e-01],\n       [2.51496556e-01],\n       [2.55579211e-01],\n       [2.52197871e-01],\n       [2.55554164e-01],\n       [2.57758297e-01],\n       [2.58985598e-01],\n       [2.66700063e-01],\n       [2.77370069e-01],\n       [2.72060113e-01],\n       [2.71008140e-01],\n       [2.71033187e-01],\n       [2.72135254e-01],\n       [2.73813400e-01],\n       [2.78271760e-01],\n       [2.82680025e-01],\n       [2.90895429e-01],\n       [2.96030056e-01],\n       [3.02542267e-01],\n       [3.04370695e-01],\n       [3.00638698e-01],\n       [2.91195992e-01],\n       [2.86687539e-01],\n       [2.79248591e-01],\n       [2.93074515e-01],\n       [2.86111459e-01],\n       [2.99486537e-01],\n       [2.93049468e-01],\n       [2.78121478e-01],\n       [2.79023168e-01],\n       [2.79348779e-01],\n       [2.83506575e-01],\n       [2.77570445e-01],\n       [2.85410144e-01],\n       [2.88916719e-01],\n       [2.84483406e-01],\n       [2.95829681e-01],\n       [2.97808391e-01],\n       [3.01615529e-01],\n       [3.06675016e-01],\n       [3.13663118e-01],\n       [3.03443957e-01],\n       [2.94176581e-01],\n       [2.92874139e-01],\n       [3.00638698e-01],\n       [2.74314339e-01],\n       [2.69530369e-01],\n       [2.88716343e-01],\n       [2.76819036e-01],\n       [2.88816531e-01],\n       [2.86412023e-01],\n       [2.73462743e-01],\n       [2.81703193e-01],\n       [2.85059487e-01],\n       [2.90269255e-01],\n       [2.71133375e-01],\n       [2.82930495e-01],\n       [2.74164058e-01],\n       [2.63994991e-01],\n       [2.66649969e-01],\n       [2.80576080e-01],\n       [2.88991860e-01],\n       [2.52072636e-01],\n       [2.37319975e-01],\n       [2.42780213e-01],\n       [2.58259236e-01],\n       [2.54602379e-01],\n       [2.44533500e-01],\n       [2.18735128e-01],\n       [2.13876018e-01],\n       [2.00275517e-01],\n       [2.11822167e-01],\n       [2.17132123e-01],\n       [1.97921102e-01],\n       [1.75679399e-01],\n       [1.75178460e-01],\n       [1.63932373e-01],\n       [1.69768316e-01],\n       [1.68816531e-01],\n       [1.85597996e-01],\n       [1.82116468e-01],\n       [1.79686913e-01],\n       [1.95316218e-01],\n       [1.74953037e-01],\n       [1.70018785e-01],\n       [1.54414527e-01],\n       [1.57194740e-01],\n       [1.54765185e-01],\n       [1.55942392e-01],\n       [1.60576080e-01],\n       [1.46875391e-01],\n       [1.43018159e-01],\n       [1.48353162e-01],\n       [1.35378835e-01],\n       [1.25209768e-01],\n       [1.09931121e-01],\n       [1.00162805e-01],\n       [1.26061365e-01],\n       [1.23506575e-01],\n       [1.23706951e-01],\n       [1.27489042e-01],\n       [1.27939887e-01],\n       [8.85410144e-02],\n       [1.03744521e-01],\n       [1.02917971e-01],\n       [1.09981215e-01],\n       [1.16393237e-01],\n       [1.17620539e-01],\n       [1.13838447e-01],\n       [1.08102693e-01],\n       [1.15792110e-01],\n       [1.20475892e-01],\n       [1.22780213e-01],\n       [1.25184721e-01],\n       [1.16368190e-01],\n       [1.17921102e-01],\n       [1.14865373e-01],\n       [1.27539136e-01],\n       [1.23882279e-01],\n       [1.19824671e-01],\n       [1.46299311e-01],\n       [1.49279900e-01],\n       [1.49480276e-01],\n       [1.61327489e-01],\n       [1.68666249e-01],\n       [1.68816531e-01],\n       [1.60551033e-01],\n       [1.59223544e-01],\n       [1.56768942e-01],\n       [1.60425798e-01],\n       [1.58647464e-01],\n       [1.60200376e-01],\n       [1.59248591e-01],\n       [1.60525986e-01],\n       [1.63281152e-01],\n       [1.60851597e-01],\n       [1.65635567e-01],\n       [1.68791484e-01],\n       [1.69041954e-01],\n       [1.70394490e-01],\n       [1.66086412e-01],\n       [1.70644959e-01],\n       [1.72849092e-01],\n       [1.72047589e-01],\n       [1.69517846e-01],\n       [1.64458359e-01],\n       [1.65485285e-01],\n       [1.80488416e-01],\n       [1.85522855e-01],\n       [1.87526612e-01],\n       [1.92586099e-01],\n       [1.98572323e-01],\n       [2.03331246e-01],\n       [1.99599249e-01],\n       [2.03681904e-01],\n       [2.21039449e-01],\n       [2.10920476e-01],\n       [2.05134627e-01],\n       [2.00250470e-01],\n       [2.04458359e-01],\n       [2.05084534e-01],\n       [2.08165310e-01],\n       [2.11396368e-01],\n       [2.18359424e-01],\n       [2.21690670e-01],\n       [2.22542267e-01],\n       [2.25823419e-01],\n       [2.33587977e-01],\n       [2.32085160e-01],\n       [2.34890420e-01],\n       [2.30707577e-01],\n       [2.30507201e-01],\n       [2.31408892e-01],\n       [2.31458986e-01],\n       [2.41177207e-01],\n       [2.43005636e-01],\n       [2.44683782e-01],\n       [2.52072636e-01],\n       [2.51271133e-01],\n       [2.46562304e-01],\n       [2.44107702e-01],\n       [2.44884158e-01],\n       [2.35015654e-01],\n       [2.59686913e-01],\n       [2.56255479e-01],\n       [2.62767689e-01],\n       [2.54577332e-01],\n       [2.40500939e-01],\n       [2.40601127e-01],\n       [2.35140889e-01],\n       [2.26274264e-01],\n       [1.97570445e-01],\n       [2.04934252e-01],\n       [2.10594865e-01],\n       [2.08490920e-01],\n       [2.05785848e-01],\n       [1.90983093e-01],\n       [1.99774577e-01],\n       [1.90206637e-01],\n       [1.82391985e-01],\n       [1.80663745e-01],\n       [1.78810269e-01],\n       [1.76681277e-01],\n       [1.78985598e-01],\n       [1.70895429e-01],\n       [1.66462116e-01],\n       [1.82341891e-01],\n       [1.89605510e-01],\n       [1.96318096e-01],\n       [2.08666249e-01],\n       [2.14752661e-01],\n       [2.20338134e-01],\n       [2.18785222e-01],\n       [2.18685034e-01],\n       [2.15153413e-01],\n       [2.18033813e-01],\n       [2.29455229e-01],\n       [2.28002505e-01],\n       [2.31984972e-01],\n       [2.30281778e-01],\n       [2.29780839e-01],\n       [2.22241703e-01],\n       [2.32836569e-01],\n       [2.32686287e-01],\n       [2.28127740e-01],\n       [2.37219787e-01],\n       [2.40175329e-01],\n       [2.44383219e-01],\n       [2.43932373e-01],\n       [2.33387602e-01],\n       [2.36443331e-01],\n       [2.41427677e-01],\n       [2.37720726e-01],\n       [2.41603006e-01],\n       [2.46386976e-01],\n       [2.44608641e-01],\n       [2.41728240e-01],\n       [2.47514089e-01],\n       [2.39824671e-01],\n       [2.51421415e-01],\n       [2.55479023e-01],\n       [2.55053225e-01],\n       [2.50920476e-01],\n       [2.52723857e-01],\n       [2.57582968e-01],\n       [2.55328741e-01],\n       [2.65998748e-01],\n       [2.54452098e-01],\n       [2.43406387e-01],\n       [2.16656230e-01],\n       [2.25823419e-01],\n       [2.30932999e-01],\n       [2.41928616e-01],\n       [2.35817157e-01],\n       [2.34539762e-01],\n       [2.55804634e-01],\n       [2.40225423e-01],\n       [2.37695679e-01],\n       [2.49618034e-01],\n       [2.59261115e-01],\n       [2.59286162e-01],\n       [2.64996869e-01],\n       [2.64546024e-01],\n       [2.39949906e-01],\n       [2.49592987e-01],\n       [2.43757044e-01],\n       [2.47188478e-01],\n       [2.55904822e-01],\n       [2.55228554e-01],\n       [2.47614277e-01],\n       [2.56355667e-01],\n       [2.66599875e-01],\n       [2.66549781e-01],\n       [2.68829054e-01],\n       [2.75165936e-01],\n       [2.92423294e-01],\n       [2.91170946e-01],\n       [2.80300564e-01],\n       [2.83180964e-01],\n       [2.85184721e-01],\n       [2.90369443e-01],\n       [2.85835942e-01],\n       [2.77745773e-01],\n       [2.80225423e-01],\n       [2.77620539e-01],\n       [2.86011271e-01],\n       [2.83155917e-01],\n       [2.80475892e-01],\n       [2.93375078e-01],\n       [2.94927990e-01],\n       [2.80826550e-01],\n       [2.85485285e-01],\n       [3.00989355e-01],\n       [3.01114590e-01],\n       [2.94452098e-01],\n       [3.01039449e-01],\n       [3.08703820e-01],\n       [3.24032561e-01],\n       [3.23180964e-01],\n       [3.21803381e-01],\n       [3.19423920e-01],\n       [3.21703193e-01],\n       [3.24533500e-01],\n       [3.34802755e-01],\n       [3.33425172e-01],\n       [3.41490294e-01],\n       [3.42492173e-01],\n       [3.50006262e-01],\n       [3.56192862e-01],\n       [3.41765811e-01],\n       [3.41690670e-01],\n       [3.55466500e-01],\n       [3.73149656e-01],\n       [3.77357545e-01],\n       [3.76430808e-01],\n       [3.76706324e-01],\n       [3.82191609e-01],\n       [3.83969944e-01],\n       [3.89129618e-01],\n       [3.88528491e-01],\n       [3.94815279e-01],\n       [3.90231684e-01],\n       [3.98046337e-01],\n       [4.01402630e-01],\n       [3.99373826e-01],\n       [3.91609267e-01],\n       [3.88653726e-01],\n       [3.88077646e-01],\n       [3.99574202e-01],\n       [3.94364433e-01],\n       [4.03256105e-01],\n       [4.01778334e-01],\n       [3.94038823e-01],\n       [3.82241703e-01],\n       [3.87977458e-01],\n       [3.97595492e-01],\n       [4.10444584e-01],\n       [4.00951785e-01],\n       [4.04859111e-01],\n       [4.10594865e-01],\n       [4.12323106e-01],\n       [4.21565435e-01],\n       [4.33362555e-01],\n       [4.34740138e-01],\n       [4.33061991e-01],\n       [4.33763306e-01],\n       [4.32310582e-01],\n       [4.43731997e-01],\n       [4.44408265e-01],\n       [4.58534753e-01],\n       [4.58259236e-01],\n       [4.62567314e-01],\n       [4.67902317e-01],\n       [4.84683782e-01],\n       [4.77370069e-01],\n       [4.83306199e-01],\n       [4.79774577e-01],\n       [4.91797120e-01],\n       [5.07927364e-01],\n       [5.09680651e-01],\n       [5.26286788e-01],\n       [5.15566688e-01],\n       [5.12210394e-01],\n       [5.21978710e-01],\n       [5.30720100e-01],\n       [5.25309956e-01],\n       [5.28140263e-01],\n       [5.31972448e-01],\n       [5.29668128e-01],\n       [5.06224170e-01],\n       [5.28115216e-01],\n       [5.44771446e-01],\n       [5.43594239e-01],\n       [5.07626800e-01],\n       [5.05497808e-01],\n       [5.31020664e-01],\n       [5.37532874e-01],\n       [5.46950532e-01],\n       [5.33976205e-01],\n       [5.37783344e-01],\n       [5.32924233e-01],\n       [5.51934878e-01],\n       [5.46098936e-01],\n       [5.46299311e-01],\n       [5.31396368e-01],\n       [5.42968065e-01],\n       [5.34652473e-01],\n       [5.16493425e-01],\n       [4.79248591e-01],\n       [4.53951158e-01],\n       [4.65397621e-01],\n       [4.17482780e-01],\n       [4.17082029e-01],\n       [4.80826550e-01],\n       [4.57056982e-01],\n       [4.90670006e-01],\n       [4.66073889e-01],\n       [4.56330620e-01],\n       [3.99073262e-01],\n       [4.47088291e-01],\n       [4.22266750e-01],\n       [3.54139011e-01],\n       [4.28628679e-01],\n       [3.39060739e-01],\n       [3.65735755e-01],\n       [3.50231684e-01],\n       [3.45497808e-01],\n       [3.06574828e-01],\n       [2.94376957e-01],\n       [3.50757671e-01],\n       [3.47351284e-01],\n       [3.79711960e-01],\n       [3.52911709e-01],\n       [3.70619912e-01],\n       [3.69317470e-01],\n       [3.35804634e-01],\n       [3.45873513e-01],\n       [3.37056982e-01],\n       [3.89805886e-01],\n       [3.82191609e-01],\n       [3.98822793e-01],\n       [4.03631810e-01],\n       [4.16806512e-01],\n       [4.51371321e-01],\n       [4.44809017e-01],\n       [4.50469631e-01],\n       [4.40726362e-01],\n       [4.26023795e-01],\n       [4.04583594e-01],\n       [4.23944897e-01],\n       [4.21264872e-01],\n       [4.41152160e-01],\n       [4.41653100e-01],\n       [4.30156544e-01],\n       [4.53074515e-01],\n       [4.68278021e-01],\n       [4.56430808e-01],\n       [4.66675016e-01],\n       [4.77695679e-01],\n       [4.85385097e-01],\n       [4.93174703e-01],\n       [5.09179712e-01],\n       [5.21402630e-01],\n       [5.12385723e-01],\n       [5.02968065e-01],\n       [5.07701941e-01],\n       [5.03118347e-01],\n       [5.21277395e-01],\n       [5.16718848e-01],\n       [5.31972448e-01],\n       [5.26011271e-01],\n       [5.31120852e-01],\n       [5.25710708e-01],\n       [5.29167188e-01],\n       [5.29517846e-01],\n       [5.28741390e-01],\n       [5.38534753e-01],\n       [5.42266750e-01],\n       [5.46725110e-01],\n       [5.39711960e-01],\n       [5.62705072e-01],\n       [5.67614277e-01],\n       [5.93988729e-01],\n       [6.16155291e-01],\n       [5.73725736e-01],\n       [5.80989355e-01],\n       [5.91484033e-01],\n       [6.14251722e-01],\n       [6.13024421e-01],\n       [6.13375078e-01],\n       [6.08340639e-01],\n       [6.31258610e-01],\n       [6.50444584e-01],\n       [6.34239198e-01],\n       [6.46211647e-01],\n       [6.18134001e-01],\n       [6.38547276e-01],\n       [6.46111459e-01],\n       [6.44383219e-01],\n       [6.44383219e-01],\n       [6.68778961e-01],\n       [6.65873513e-01],\n       [6.87614277e-01],\n       [6.91721979e-01],\n       [6.93400125e-01],\n       [6.88966813e-01],\n       [7.04796493e-01],\n       [7.11484033e-01],\n       [6.99436443e-01],\n       [6.97482780e-01],\n       [7.17820914e-01],\n       [7.04220413e-01],\n       [7.06950532e-01],\n       [6.62592361e-01],\n       [6.60288040e-01],\n       [6.82279274e-01],\n       [6.66675016e-01],\n       [6.84583594e-01],\n       [6.96105197e-01],\n       [7.96994364e-01],\n       [8.23819662e-01],\n       [8.31108328e-01],\n       [8.35090795e-01],\n       [8.73562930e-01],\n       [8.45610520e-01],\n       [8.61790858e-01],\n       [8.28202880e-01],\n       [8.64621165e-01],\n       [8.84658735e-01],\n       [8.83631810e-01],\n       [8.80626174e-01],\n       [8.90194114e-01],\n       [8.91646838e-01],\n       [9.17370069e-01],\n       [9.78434565e-01],\n       [9.93337508e-01],\n       [9.82993112e-01],\n       [1.00000000e+00],\n       [9.84846587e-01],\n       [9.82817783e-01],\n       [5.56042580e-02],\n       [6.84783970e-02],\n       [6.15153413e-02],\n       [3.51659361e-02],\n       [3.53663118e-02],\n       [1.49780839e-02],\n       [2.62492173e-02],\n       [1.66562304e-02],\n       [1.29242329e-02],\n       [2.13274890e-02],\n       [2.17908579e-02],\n       [1.32498435e-02],\n       [8.76643707e-03],\n       [0.00000000e+00],\n       [8.11521603e-03],\n       [1.24483406e-02],\n       [7.01314966e-04],\n       [3.45648090e-03],\n       [1.36255479e-02],\n       [2.03381340e-02],\n       [1.81590482e-02],\n       [2.24671259e-02],\n       [2.49217282e-02],\n       [1.54790232e-02],\n       [2.41953663e-02],\n       [1.58296807e-02],\n       [2.06386976e-02],\n       [2.03631810e-02],\n       [2.53725736e-02],\n       [4.39824671e-02],\n       [3.57169693e-02],\n       [3.59423920e-02],\n       [3.47401378e-02],\n       [3.05072010e-02],\n       [2.28929242e-02],\n       [2.67251096e-02],\n       [2.51221039e-02],\n       [2.23168441e-02],\n       [2.05385097e-02],\n       [2.05635567e-02],\n       [2.44458359e-02],\n       [1.09204759e-02],\n       [2.12398247e-02],\n       [5.05948654e-03],\n       [4.83406387e-03],\n       [9.01690670e-03],\n       [2.03130870e-02],\n       [3.05322480e-02],\n       [2.96806512e-02],\n       [2.37445210e-02],\n       [2.28678773e-02],\n       [3.16844083e-02],\n       [3.09830933e-02],\n       [3.11083281e-02],\n       [3.37132123e-02],\n       [3.14339386e-02],\n       [2.80275517e-02],\n       [2.95554164e-02],\n       [2.62993112e-02],\n       [1.75579211e-02],\n       [2.08641202e-02],\n       [2.30181590e-02],\n       [2.44207890e-02],\n       [3.05823419e-02],\n       [3.97745773e-02],\n       [4.06762680e-02],\n       [4.03256105e-02],\n       [3.85973701e-02],\n       [4.23544145e-02],\n       [4.39323732e-02],\n       [3.74201628e-02],\n       [4.10770194e-02],\n       [3.89981215e-02],\n       [3.74201628e-02],\n       [5.26988103e-02],\n       [5.25234815e-02],\n       [5.47526612e-02],\n       [4.96305573e-02],\n       [5.35754540e-02],\n       [6.27175955e-02],\n       [6.04132749e-02],\n       [6.29430182e-02],\n       [7.47651847e-02],\n       [7.02066374e-02],\n       [6.73262367e-02],\n       [6.47463995e-02],\n       [5.65309956e-02],\n       [6.05385097e-02],\n       [4.94927990e-02],\n       [6.03130870e-02],\n       [6.31433939e-02],\n       [5.54539762e-02],\n       [5.50031309e-02],\n       [6.02379461e-02],\n       [5.52786475e-02],\n       [5.08453350e-02],\n       [5.25735755e-02],\n       [6.30932999e-02]])"
     },
     "execution_count": 159,
     "metadata": {},
     "output_type": "execute_result"
    }
   ],
   "source": [
    "train_data"
   ],
   "metadata": {
    "collapsed": false
   }
  },
  {
   "cell_type": "code",
   "execution_count": 160,
   "outputs": [
    {
     "data": {
      "text/plain": "array([[0.07521603],\n       [0.08072636],\n       [0.09036944],\n       [0.09097057],\n       [0.0882154 ],\n       [0.07576706],\n       [0.06291797],\n       [0.06837821],\n       [0.0705072 ],\n       [0.06787727],\n       [0.07651847],\n       [0.07494051],\n       [0.07531622],\n       [0.07306199],\n       [0.07150908],\n       [0.07085786],\n       [0.07145899],\n       [0.06599875],\n       [0.06011271],\n       [0.0572824 ],\n       [0.05768316],\n       [0.04798998],\n       [0.04763932],\n       [0.04636193],\n       [0.03544145],\n       [0.03611772],\n       [0.05247339],\n       [0.04578585],\n       [0.03812148],\n       [0.03328741],\n       [0.03651847],\n       [0.02384471],\n       [0.0356794 ],\n       [0.03291171],\n       [0.03787101],\n       [0.03554164],\n       [0.04295554],\n       [0.04691296],\n       [0.04488416],\n       [0.03428929],\n       [0.03293676],\n       [0.04145272],\n       [0.03932373],\n       [0.03318723],\n       [0.03443957],\n       [0.03599249],\n       [0.03644333],\n       [0.03271133],\n       [0.0383469 ],\n       [0.04047589],\n       [0.04773951],\n       [0.04851597],\n       [0.0527489 ],\n       [0.05891046],\n       [0.06551033],\n       [0.06111459],\n       [0.06910457],\n       [0.0630933 ],\n       [0.0692799 ],\n       [0.0684283 ],\n       [0.0701315 ],\n       [0.06579837],\n       [0.0667752 ],\n       [0.06286788],\n       [0.06882905],\n       [0.06983093],\n       [0.06900438],\n       [0.06697558],\n       [0.06672511],\n       [0.06166562],\n       [0.0643707 ],\n       [0.05262367],\n       [0.05324984],\n       [0.05735755],\n       [0.05853475],\n       [0.05011897],\n       [0.04776456],\n       [0.03989981],\n       [0.04541014],\n       [0.05162179],\n       [0.04866625],\n       [0.04510958],\n       [0.04470883],\n       [0.05127113],\n       [0.0465623 ],\n       [0.05074515],\n       [0.05024421],\n       [0.05011897],\n       [0.0461866 ],\n       [0.04450845],\n       [0.0436819 ],\n       [0.04563557],\n       [0.04182843],\n       [0.04771446],\n       [0.04773951],\n       [0.04984346],\n       [0.05082029],\n       [0.0482655 ],\n       [0.05137132],\n       [0.05921102],\n       [0.05710708],\n       [0.05838447],\n       [0.06249217],\n       [0.05916093],\n       [0.06376957],\n       [0.06797746],\n       [0.06727614],\n       [0.06654978],\n       [0.06579837],\n       [0.06998121],\n       [0.07386349],\n       [0.07544145],\n       [0.07621791],\n       [0.08295554],\n       [0.08811522],\n       [0.09450219],\n       [0.09117095],\n       [0.09585473],\n       [0.09432686],\n       [0.09718222],\n       [0.1059737 ],\n       [0.10429555],\n       [0.09906074],\n       [0.08919224],\n       [0.09845961],\n       [0.09658109],\n       [0.10008766],\n       [0.10449593],\n       [0.10557295],\n       [0.10001252],\n       [0.09552912],\n       [0.09718222],\n       [0.09773325],\n       [0.09688165],\n       [0.10149029],\n       [0.10046337],\n       [0.10073889],\n       [0.09843456],\n       [0.09830933],\n       [0.09708203],\n       [0.09773325],\n       [0.10532248],\n       [0.10584847],\n       [0.11090795],\n       [0.10857858],\n       [0.0989856 ],\n       [0.09983719],\n       [0.10356919],\n       [0.10737633],\n       [0.10715091],\n       [0.10399499],\n       [0.10194114],\n       [0.10459612],\n       [0.11591735],\n       [0.11268629],\n       [0.11438948],\n       [0.11724483],\n       [0.11887289],\n       [0.12485911],\n       [0.12090169],\n       [0.11829681],\n       [0.10552286],\n       [0.10697558],\n       [0.10339386],\n       [0.10567314],\n       [0.10507201],\n       [0.09823419],\n       [0.09041954],\n       [0.09164684],\n       [0.0977082 ],\n       [0.10016281],\n       [0.10038823],\n       [0.09650595],\n       [0.0878397 ],\n       [0.09014402],\n       [0.08681277],\n       [0.08969317],\n       [0.08090169],\n       [0.08583594],\n       [0.08806512],\n       [0.09129618],\n       [0.09031935],\n       [0.09009393],\n       [0.08683782],\n       [0.085335  ],\n       [0.09247339],\n       [0.09517846],\n       [0.09946149],\n       [0.10499687],\n       [0.10624922],\n       [0.10680025],\n       [0.10482154],\n       [0.10469631],\n       [0.1063995 ],\n       [0.10522229],\n       [0.11453976],\n       [0.10760175],\n       [0.10549781],\n       [0.10815279],\n       [0.11183469],\n       [0.1105072 ],\n       [0.1113087 ],\n       [0.10920476],\n       [0.1101315 ],\n       [0.10289292],\n       [0.10276769],\n       [0.10807765],\n       [0.10810269],\n       [0.11060739],\n       [0.11684408],\n       [0.12781465],\n       [0.13452724],\n       [0.13570445],\n       [0.13668128],\n       [0.13800877],\n       [0.12515967],\n       [0.13375078],\n       [0.14642455],\n       [0.14509706],\n       [0.14256731],\n       [0.1377583 ],\n       [0.14647464],\n       [0.16115216],\n       [0.17092048],\n       [0.16961803],\n       [0.181866  ],\n       [0.17257358],\n       [0.16904195],\n       [0.18149029],\n       [0.16385723],\n       [0.16105197],\n       [0.15757044],\n       [0.16568566],\n       [0.17232311],\n       [0.17392611],\n       [0.18407013],\n       [0.18146525],\n       [0.18169067],\n       [0.17873513],\n       [0.17715717],\n       [0.18827802],\n       [0.18249217],\n       [0.17051972],\n       [0.16320601],\n       [0.16363181],\n       [0.1636819 ],\n       [0.17092048],\n       [0.17204759],\n       [0.1636819 ],\n       [0.16588604],\n       [0.15769568],\n       [0.14875391],\n       [0.14444584],\n       [0.13918597],\n       [0.13720726],\n       [0.13259862],\n       [0.1323732 ],\n       [0.13119599],\n       [0.15902317],\n       [0.17016907],\n       [0.16974327],\n       [0.17282405],\n       [0.16546024],\n       [0.16418284],\n       [0.16235441],\n       [0.1702943 ],\n       [0.17392611],\n       [0.16350657],\n       [0.15479023],\n       [0.15539136],\n       [0.16518472],\n       [0.16458359],\n       [0.15539136],\n       [0.15143394],\n       [0.14396994],\n       [0.13332498],\n       [0.14001252],\n       [0.14529743],\n       [0.1459737 ],\n       [0.14116468],\n       [0.14958046],\n       [0.14875391],\n       [0.14108954],\n       [0.13139637],\n       [0.12673763],\n       [0.14053851],\n       [0.12944271],\n       [0.11994991],\n       [0.1096556 ],\n       [0.1208516 ],\n       [0.13212273],\n       [0.13470257],\n       [0.14311835],\n       [0.14662492],\n       [0.15524108],\n       [0.1587226 ],\n       [0.16839073],\n       [0.17001879],\n       [0.17222292],\n       [0.1806387 ],\n       [0.17765811],\n       [0.16974327],\n       [0.16899186],\n       [0.17933626],\n       [0.17087038],\n       [0.16278021],\n       [0.16355667],\n       [0.15842204],\n       [0.14755166],\n       [0.15233563],\n       [0.1591985 ],\n       [0.1463995 ],\n       [0.14584847],\n       [0.15168441],\n       [0.15125861],\n       [0.14922981],\n       [0.13763306],\n       [0.14036318],\n       [0.12513463],\n       [0.12455855],\n       [0.14226675],\n       [0.12726362],\n       [0.12804008],\n       [0.13184721],\n       [0.14822793],\n       [0.12505949],\n       [0.12633688],\n       [0.11326237],\n       [0.11939887],\n       [0.09933626],\n       [0.08946775],\n       [0.10086412],\n       [0.09693175],\n       [0.10619912],\n       [0.08510958],\n       [0.07641828],\n       [0.07701941],\n       [0.09084534],\n       [0.08395742],\n       [0.08435817],\n       [0.09252348],\n       [0.107201  ],\n       [0.10519724],\n       [0.10487163],\n       [0.11113338],\n       [0.096531  ],\n       [0.09843456],\n       [0.10487163],\n       [0.10299311],\n       [0.08966813],\n       [0.07586725],\n       [0.0627176 ],\n       [0.06492173],\n       [0.07160927],\n       [0.05815905],\n       [0.06191609],\n       [0.07271133],\n       [0.07140889],\n       [0.0787226 ],\n       [0.08721353],\n       [0.08721353],\n       [0.07664371],\n       [0.08112711],\n       [0.07484033],\n       [0.0803757 ],\n       [0.08696306],\n       [0.09036944],\n       [0.09896055],\n       [0.10068879],\n       [0.0952536 ],\n       [0.09773325],\n       [0.09680651],\n       [0.10427051],\n       [0.10852849],\n       [0.10076393],\n       [0.11060739],\n       [0.11571697],\n       [0.12150282],\n       [0.1183469 ],\n       [0.11549155],\n       [0.11211021],\n       [0.12510958],\n       [0.12651221],\n       [0.13943644],\n       [0.13693175],\n       [0.1331747 ],\n       [0.14850344],\n       [0.14770194],\n       [0.14654978],\n       [0.14534753],\n       [0.14547276],\n       [0.15629305],\n       [0.15441453],\n       [0.16345648],\n       [0.1661866 ],\n       [0.16578585],\n       [0.16959299],\n       [0.16859111],\n       [0.16200376],\n       [0.15211021],\n       [0.15125861],\n       [0.15201002],\n       [0.15827176],\n       [0.14221666],\n       [0.13660614],\n       [0.13041954],\n       [0.1261866 ],\n       [0.12804008],\n       [0.12265498],\n       [0.11944897],\n       [0.12303068],\n       [0.11927364],\n       [0.1265623 ],\n       [0.14174076],\n       [0.11772073],\n       [0.12140263],\n       [0.11403882],\n       [0.10985598],\n       [0.11932373],\n       [0.1253851 ],\n       [0.11742016],\n       [0.11496556],\n       [0.10917971],\n       [0.11003131],\n       [0.11251096],\n       [0.10770194],\n       [0.08926738],\n       [0.07854728],\n       [0.08919224],\n       [0.09833438],\n       [0.09908579],\n       [0.09665623],\n       [0.08328115],\n       [0.0841077 ],\n       [0.08050094],\n       [0.07889793],\n       [0.09054477],\n       [0.07899812],\n       [0.08909205],\n       [0.09244834]])"
     },
     "execution_count": 160,
     "metadata": {},
     "output_type": "execute_result"
    }
   ],
   "source": [
    "test_data"
   ],
   "metadata": {
    "collapsed": false
   }
  },
  {
   "cell_type": "markdown",
   "source": [
    "This function is explicitly created to choose the number of timesteps to use as input variables to predict the next time periood- the default value is set to 1."
   ],
   "metadata": {
    "collapsed": false
   }
  },
  {
   "cell_type": "code",
   "execution_count": 161,
   "outputs": [],
   "source": [
    "def create_dataset(dataset,time_step = 1):\n",
    "    dataX,dataY = [],[]\n",
    "    for i in range(len(dataset)-time_step-1):\n",
    "        a = dataset[i:(i+time_step),0]\n",
    "        dataX.append(a)\n",
    "        dataY.append(dataset[i+time_step,0])\n",
    "    return np.array(dataX),np.array(dataY)"
   ],
   "metadata": {
    "collapsed": false
   }
  },
  {
   "cell_type": "code",
   "execution_count": 166,
   "outputs": [],
   "source": [
    "# reshape into X=t,t+1,t+2,t+3 and y=t+4\n",
    "X_train,y_train = create_dataset(train_data,100)"
   ],
   "metadata": {
    "collapsed": false
   }
  },
  {
   "cell_type": "code",
   "execution_count": 167,
   "outputs": [],
   "source": [
    "X_test,y_test = create_dataset(test_data,100)"
   ],
   "metadata": {
    "collapsed": false
   }
  },
  {
   "cell_type": "code",
   "execution_count": 168,
   "outputs": [],
   "source": [
    "# reshape input to the [samples,time_steps,features] which is required for LSTM\n",
    "X_train = X_train.reshape(X_train.shape[0],X_train.shape[1],1)\n",
    "X_test = X_test.reshape(X_test.shape[0],X_test.shape[1],1)"
   ],
   "metadata": {
    "collapsed": false
   }
  },
  {
   "cell_type": "code",
   "execution_count": null,
   "outputs": [],
   "source": [
    "!pip install tensorFlow"
   ],
   "metadata": {
    "collapsed": false
   }
  },
  {
   "cell_type": "code",
   "execution_count": 165,
   "outputs": [],
   "source": [
    "# Create the stacked LSTM model\n",
    "from tensorflow.keras.models import Sequential\n",
    "from tensorflow.keras.layers import Dense\n",
    "from tensorflow.keras.layers import LSTM"
   ],
   "metadata": {
    "collapsed": false
   }
  },
  {
   "cell_type": "markdown",
   "source": [
    "Nest step is designing and fitting the LSTM network for this problem.\n",
    "The network has 2 layers, with 50 LSTM blocks, and as the return_sequenes is set to True the output then passed to new layer.The default sigmoid function is used for the LSTm blocks. The network is trained for 120 epochs and a batch size of 64 is used."
   ],
   "metadata": {
    "collapsed": false
   }
  },
  {
   "cell_type": "code",
   "execution_count": 169,
   "outputs": [],
   "source": [
    "model = Sequential()\n",
    "model.add(LSTM(50,return_sequences=True,input_shape=(100,1)))\n",
    "model.add(LSTM(50,return_sequences=True))\n",
    "model.add(LSTM(50))\n",
    "model.add(Dense(1))\n",
    "model.compile(loss='mean_squared_error',optimizer='adam')"
   ],
   "metadata": {
    "collapsed": false
   }
  },
  {
   "cell_type": "code",
   "execution_count": 170,
   "outputs": [
    {
     "name": "stdout",
     "output_type": "stream",
     "text": [
      "Model: \"sequential_2\"\n",
      "_________________________________________________________________\n",
      " Layer (type)                Output Shape              Param #   \n",
      "=================================================================\n",
      " lstm_6 (LSTM)               (None, 100, 50)           10400     \n",
      "                                                                 \n",
      " lstm_7 (LSTM)               (None, 100, 50)           20200     \n",
      "                                                                 \n",
      " lstm_8 (LSTM)               (None, 50)                20200     \n",
      "                                                                 \n",
      " dense_2 (Dense)             (None, 1)                 51        \n",
      "                                                                 \n",
      "=================================================================\n",
      "Total params: 50,851\n",
      "Trainable params: 50,851\n",
      "Non-trainable params: 0\n",
      "_________________________________________________________________\n"
     ]
    }
   ],
   "source": [
    "model.summary()"
   ],
   "metadata": {
    "collapsed": false
   }
  },
  {
   "cell_type": "code",
   "execution_count": 171,
   "outputs": [
    {
     "name": "stdout",
     "output_type": "stream",
     "text": [
      "Model: \"sequential_2\"\n",
      "_________________________________________________________________\n",
      " Layer (type)                Output Shape              Param #   \n",
      "=================================================================\n",
      " lstm_6 (LSTM)               (None, 100, 50)           10400     \n",
      "                                                                 \n",
      " lstm_7 (LSTM)               (None, 100, 50)           20200     \n",
      "                                                                 \n",
      " lstm_8 (LSTM)               (None, 50)                20200     \n",
      "                                                                 \n",
      " dense_2 (Dense)             (None, 1)                 51        \n",
      "                                                                 \n",
      "=================================================================\n",
      "Total params: 50,851\n",
      "Trainable params: 50,851\n",
      "Non-trainable params: 0\n",
      "_________________________________________________________________\n"
     ]
    }
   ],
   "source": [
    "model.summary()"
   ],
   "metadata": {
    "collapsed": false
   }
  },
  {
   "cell_type": "code",
   "execution_count": 172,
   "outputs": [
    {
     "name": "stdout",
     "output_type": "stream",
     "text": [
      "Epoch 1/120\n",
      "12/12 [==============================] - 19s 376ms/step - loss: 0.0348 - val_loss: 4.8174e-04\n",
      "Epoch 2/120\n",
      "12/12 [==============================] - 3s 237ms/step - loss: 0.0160 - val_loss: 0.0050\n",
      "Epoch 3/120\n",
      "12/12 [==============================] - 3s 239ms/step - loss: 0.0113 - val_loss: 8.4175e-04\n",
      "Epoch 4/120\n",
      "12/12 [==============================] - 3s 226ms/step - loss: 0.0096 - val_loss: 4.3509e-04\n",
      "Epoch 5/120\n",
      "12/12 [==============================] - 3s 225ms/step - loss: 0.0092 - val_loss: 5.8259e-04\n",
      "Epoch 6/120\n",
      "12/12 [==============================] - 3s 223ms/step - loss: 0.0078 - val_loss: 0.0010\n",
      "Epoch 7/120\n",
      "12/12 [==============================] - 3s 217ms/step - loss: 0.0070 - val_loss: 5.2480e-04\n",
      "Epoch 8/120\n",
      "12/12 [==============================] - 3s 213ms/step - loss: 0.0063 - val_loss: 2.9643e-04\n",
      "Epoch 9/120\n",
      "12/12 [==============================] - 3s 219ms/step - loss: 0.0069 - val_loss: 8.3921e-04\n",
      "Epoch 10/120\n",
      "12/12 [==============================] - 3s 220ms/step - loss: 0.0053 - val_loss: 3.6918e-04\n",
      "Epoch 11/120\n",
      "12/12 [==============================] - 3s 222ms/step - loss: 0.0050 - val_loss: 5.3515e-04\n",
      "Epoch 12/120\n",
      "12/12 [==============================] - 3s 218ms/step - loss: 0.0051 - val_loss: 3.5778e-04\n",
      "Epoch 13/120\n",
      "12/12 [==============================] - 3s 215ms/step - loss: 0.0044 - val_loss: 5.1299e-04\n",
      "Epoch 14/120\n",
      "12/12 [==============================] - 3s 235ms/step - loss: 0.0040 - val_loss: 4.2751e-04\n",
      "Epoch 15/120\n",
      "12/12 [==============================] - 3s 238ms/step - loss: 0.0042 - val_loss: 5.6807e-04\n",
      "Epoch 16/120\n",
      "12/12 [==============================] - 2s 193ms/step - loss: 0.0061 - val_loss: 7.8364e-04\n",
      "Epoch 17/120\n",
      "12/12 [==============================] - 2s 195ms/step - loss: 0.0042 - val_loss: 3.0903e-04\n",
      "Epoch 18/120\n",
      "12/12 [==============================] - 3s 217ms/step - loss: 0.0033 - val_loss: 2.7602e-04\n",
      "Epoch 19/120\n",
      "12/12 [==============================] - 3s 220ms/step - loss: 0.0052 - val_loss: 7.8382e-04\n",
      "Epoch 20/120\n",
      "12/12 [==============================] - 3s 224ms/step - loss: 0.0045 - val_loss: 2.2665e-04\n",
      "Epoch 21/120\n",
      "12/12 [==============================] - 3s 237ms/step - loss: 0.0036 - val_loss: 2.4909e-04\n",
      "Epoch 22/120\n",
      "12/12 [==============================] - 3s 227ms/step - loss: 0.0032 - val_loss: 4.1140e-04\n",
      "Epoch 23/120\n",
      "12/12 [==============================] - 3s 221ms/step - loss: 0.0028 - val_loss: 4.0540e-04\n",
      "Epoch 24/120\n",
      "12/12 [==============================] - 2s 202ms/step - loss: 0.0028 - val_loss: 3.5162e-04\n",
      "Epoch 25/120\n",
      "12/12 [==============================] - 2s 194ms/step - loss: 0.0030 - val_loss: 2.3875e-04\n",
      "Epoch 26/120\n",
      "12/12 [==============================] - 2s 209ms/step - loss: 0.0026 - val_loss: 3.4188e-04\n",
      "Epoch 27/120\n",
      "12/12 [==============================] - 3s 237ms/step - loss: 0.0022 - val_loss: 2.6323e-04\n",
      "Epoch 28/120\n",
      "12/12 [==============================] - 3s 232ms/step - loss: 0.0032 - val_loss: 2.8911e-04\n",
      "Epoch 29/120\n",
      "12/12 [==============================] - 3s 218ms/step - loss: 0.0022 - val_loss: 2.2276e-04\n",
      "Epoch 30/120\n",
      "12/12 [==============================] - 3s 219ms/step - loss: 0.0022 - val_loss: 2.6564e-04\n",
      "Epoch 31/120\n",
      "12/12 [==============================] - 3s 219ms/step - loss: 0.0021 - val_loss: 2.4524e-04\n",
      "Epoch 32/120\n",
      "12/12 [==============================] - 2s 210ms/step - loss: 0.0023 - val_loss: 2.5035e-04\n",
      "Epoch 33/120\n",
      "12/12 [==============================] - 3s 220ms/step - loss: 0.0030 - val_loss: 2.1274e-04\n",
      "Epoch 34/120\n",
      "12/12 [==============================] - 3s 219ms/step - loss: 0.0091 - val_loss: 0.0053\n",
      "Epoch 35/120\n",
      "12/12 [==============================] - 3s 221ms/step - loss: 0.0066 - val_loss: 4.1499e-04\n",
      "Epoch 36/120\n",
      "12/12 [==============================] - 3s 219ms/step - loss: 0.0046 - val_loss: 3.4308e-04\n",
      "Epoch 37/120\n",
      "12/12 [==============================] - 3s 218ms/step - loss: 0.0031 - val_loss: 2.9813e-04\n",
      "Epoch 38/120\n",
      "12/12 [==============================] - 3s 218ms/step - loss: 0.0037 - val_loss: 3.2716e-04\n",
      "Epoch 39/120\n",
      "12/12 [==============================] - 3s 240ms/step - loss: 0.0029 - val_loss: 4.3881e-04\n",
      "Epoch 40/120\n",
      "12/12 [==============================] - 3s 227ms/step - loss: 0.0027 - val_loss: 2.5222e-04\n",
      "Epoch 41/120\n",
      "12/12 [==============================] - 2s 191ms/step - loss: 0.0024 - val_loss: 5.9016e-04\n",
      "Epoch 42/120\n",
      "12/12 [==============================] - 2s 194ms/step - loss: 0.0022 - val_loss: 2.5828e-04\n",
      "Epoch 43/120\n",
      "12/12 [==============================] - 3s 216ms/step - loss: 0.0024 - val_loss: 2.3064e-04\n",
      "Epoch 44/120\n",
      "12/12 [==============================] - 3s 220ms/step - loss: 0.0023 - val_loss: 2.6191e-04\n",
      "Epoch 45/120\n",
      "12/12 [==============================] - 3s 231ms/step - loss: 0.0022 - val_loss: 2.2532e-04\n",
      "Epoch 46/120\n",
      "12/12 [==============================] - 3s 240ms/step - loss: 0.0021 - val_loss: 2.7207e-04\n",
      "Epoch 47/120\n",
      "12/12 [==============================] - 3s 223ms/step - loss: 0.0019 - val_loss: 2.1300e-04\n",
      "Epoch 48/120\n",
      "12/12 [==============================] - 3s 217ms/step - loss: 0.0028 - val_loss: 3.2245e-04\n",
      "Epoch 49/120\n",
      "12/12 [==============================] - 2s 193ms/step - loss: 0.0018 - val_loss: 2.4473e-04\n",
      "Epoch 50/120\n",
      "12/12 [==============================] - 2s 194ms/step - loss: 0.0019 - val_loss: 2.4851e-04\n",
      "Epoch 51/120\n",
      "12/12 [==============================] - 3s 223ms/step - loss: 0.0025 - val_loss: 2.2195e-04\n",
      "Epoch 52/120\n",
      "12/12 [==============================] - 3s 246ms/step - loss: 0.0030 - val_loss: 2.2840e-04\n",
      "Epoch 53/120\n",
      "12/12 [==============================] - 3s 228ms/step - loss: 0.0020 - val_loss: 2.7456e-04\n",
      "Epoch 54/120\n",
      "12/12 [==============================] - 3s 220ms/step - loss: 0.0017 - val_loss: 2.4241e-04\n",
      "Epoch 55/120\n",
      "12/12 [==============================] - 3s 240ms/step - loss: 0.0017 - val_loss: 2.9673e-04\n",
      "Epoch 56/120\n",
      "12/12 [==============================] - 3s 229ms/step - loss: 0.0017 - val_loss: 2.8695e-04\n",
      "Epoch 57/120\n",
      "12/12 [==============================] - 3s 223ms/step - loss: 0.0020 - val_loss: 2.6462e-04\n",
      "Epoch 58/120\n",
      "12/12 [==============================] - 3s 219ms/step - loss: 0.0021 - val_loss: 2.7631e-04\n",
      "Epoch 59/120\n",
      "12/12 [==============================] - 3s 212ms/step - loss: 0.0015 - val_loss: 2.3019e-04\n",
      "Epoch 60/120\n",
      "12/12 [==============================] - 3s 220ms/step - loss: 0.0017 - val_loss: 2.3158e-04\n",
      "Epoch 61/120\n",
      "12/12 [==============================] - 3s 225ms/step - loss: 0.0014 - val_loss: 2.2571e-04\n",
      "Epoch 62/120\n",
      "12/12 [==============================] - 3s 234ms/step - loss: 0.0015 - val_loss: 2.6519e-04\n",
      "Epoch 63/120\n",
      "12/12 [==============================] - 3s 233ms/step - loss: 0.0016 - val_loss: 3.0099e-04\n",
      "Epoch 64/120\n",
      "12/12 [==============================] - 3s 255ms/step - loss: 0.0015 - val_loss: 2.5979e-04\n",
      "Epoch 65/120\n",
      "12/12 [==============================] - 3s 225ms/step - loss: 0.0018 - val_loss: 2.6872e-04\n",
      "Epoch 66/120\n",
      "12/12 [==============================] - 3s 217ms/step - loss: 0.0019 - val_loss: 2.2635e-04\n",
      "Epoch 67/120\n",
      "12/12 [==============================] - 2s 191ms/step - loss: 0.0015 - val_loss: 2.6507e-04\n",
      "Epoch 68/120\n",
      "12/12 [==============================] - 3s 218ms/step - loss: 0.0017 - val_loss: 2.1637e-04\n",
      "Epoch 69/120\n",
      "12/12 [==============================] - 3s 233ms/step - loss: 0.0013 - val_loss: 2.3796e-04\n",
      "Epoch 70/120\n",
      "12/12 [==============================] - 3s 242ms/step - loss: 0.0014 - val_loss: 2.1780e-04\n",
      "Epoch 71/120\n",
      "12/12 [==============================] - 3s 224ms/step - loss: 0.0012 - val_loss: 2.3643e-04\n",
      "Epoch 72/120\n",
      "12/12 [==============================] - 3s 221ms/step - loss: 0.0011 - val_loss: 2.4153e-04\n",
      "Epoch 73/120\n",
      "12/12 [==============================] - 3s 219ms/step - loss: 0.0020 - val_loss: 3.9117e-04\n",
      "Epoch 74/120\n",
      "12/12 [==============================] - 2s 191ms/step - loss: 0.0024 - val_loss: 2.4013e-04\n",
      "Epoch 75/120\n",
      "12/12 [==============================] - 2s 202ms/step - loss: 0.0020 - val_loss: 2.6772e-04\n",
      "Epoch 76/120\n",
      "12/12 [==============================] - 3s 237ms/step - loss: 0.0019 - val_loss: 2.0347e-04\n",
      "Epoch 77/120\n",
      "12/12 [==============================] - 3s 241ms/step - loss: 0.0016 - val_loss: 2.5954e-04\n",
      "Epoch 78/120\n",
      "12/12 [==============================] - 3s 224ms/step - loss: 0.0017 - val_loss: 2.2361e-04\n",
      "Epoch 79/120\n",
      "12/12 [==============================] - 3s 221ms/step - loss: 0.0014 - val_loss: 2.2175e-04\n",
      "Epoch 80/120\n",
      "12/12 [==============================] - 3s 223ms/step - loss: 0.0014 - val_loss: 3.1319e-04\n",
      "Epoch 81/120\n",
      "12/12 [==============================] - 3s 230ms/step - loss: 0.0013 - val_loss: 2.2034e-04\n",
      "Epoch 82/120\n",
      "12/12 [==============================] - 3s 223ms/step - loss: 0.0013 - val_loss: 2.3954e-04\n",
      "Epoch 83/120\n",
      "12/12 [==============================] - 2s 202ms/step - loss: 0.0014 - val_loss: 2.1303e-04\n",
      "Epoch 84/120\n",
      "12/12 [==============================] - 3s 220ms/step - loss: 0.0013 - val_loss: 2.2128e-04\n",
      "Epoch 85/120\n",
      "12/12 [==============================] - 3s 226ms/step - loss: 0.0013 - val_loss: 2.9271e-04\n",
      "Epoch 86/120\n",
      "12/12 [==============================] - 3s 219ms/step - loss: 0.0013 - val_loss: 2.5367e-04\n",
      "Epoch 87/120\n",
      "12/12 [==============================] - 3s 224ms/step - loss: 0.0027 - val_loss: 0.0013\n",
      "Epoch 88/120\n",
      "12/12 [==============================] - 3s 245ms/step - loss: 0.0036 - val_loss: 2.5162e-04\n",
      "Epoch 89/120\n",
      "12/12 [==============================] - 3s 230ms/step - loss: 0.0021 - val_loss: 3.9834e-04\n",
      "Epoch 90/120\n",
      "12/12 [==============================] - 2s 202ms/step - loss: 0.0019 - val_loss: 2.3241e-04\n",
      "Epoch 91/120\n",
      "12/12 [==============================] - 2s 196ms/step - loss: 0.0016 - val_loss: 2.5573e-04\n",
      "Epoch 92/120\n",
      "12/12 [==============================] - 2s 208ms/step - loss: 0.0015 - val_loss: 2.1320e-04\n",
      "Epoch 93/120\n",
      "12/12 [==============================] - 3s 221ms/step - loss: 0.0016 - val_loss: 3.4126e-04\n",
      "Epoch 94/120\n",
      "12/12 [==============================] - 3s 240ms/step - loss: 0.0018 - val_loss: 3.6205e-04\n",
      "Epoch 95/120\n",
      "12/12 [==============================] - 3s 233ms/step - loss: 0.0015 - val_loss: 2.6540e-04\n",
      "Epoch 96/120\n",
      "12/12 [==============================] - 3s 224ms/step - loss: 0.0013 - val_loss: 2.3116e-04\n",
      "Epoch 97/120\n",
      "12/12 [==============================] - 3s 221ms/step - loss: 0.0014 - val_loss: 2.5027e-04\n",
      "Epoch 98/120\n",
      "12/12 [==============================] - 2s 209ms/step - loss: 0.0016 - val_loss: 2.5126e-04\n",
      "Epoch 99/120\n",
      "12/12 [==============================] - 2s 195ms/step - loss: 0.0015 - val_loss: 2.1476e-04\n",
      "Epoch 100/120\n",
      "12/12 [==============================] - 3s 220ms/step - loss: 0.0010 - val_loss: 2.2674e-04\n",
      "Epoch 101/120\n",
      "12/12 [==============================] - 3s 237ms/step - loss: 0.0013 - val_loss: 2.0662e-04\n",
      "Epoch 102/120\n",
      "12/12 [==============================] - 3s 224ms/step - loss: 0.0012 - val_loss: 2.0329e-04\n",
      "Epoch 103/120\n",
      "12/12 [==============================] - 3s 219ms/step - loss: 0.0012 - val_loss: 2.2597e-04\n",
      "Epoch 104/120\n",
      "12/12 [==============================] - 3s 219ms/step - loss: 0.0014 - val_loss: 2.5906e-04\n",
      "Epoch 105/120\n",
      "12/12 [==============================] - 3s 222ms/step - loss: 9.6093e-04 - val_loss: 2.2831e-04\n",
      "Epoch 106/120\n",
      "12/12 [==============================] - 3s 233ms/step - loss: 0.0012 - val_loss: 2.0775e-04\n",
      "Epoch 107/120\n",
      "12/12 [==============================] - 3s 234ms/step - loss: 0.0012 - val_loss: 2.1310e-04\n",
      "Epoch 108/120\n",
      "12/12 [==============================] - 2s 198ms/step - loss: 0.0010 - val_loss: 2.0861e-04\n",
      "Epoch 109/120\n",
      "12/12 [==============================] - 3s 219ms/step - loss: 0.0011 - val_loss: 2.0326e-04\n",
      "Epoch 110/120\n",
      "12/12 [==============================] - 3s 224ms/step - loss: 0.0015 - val_loss: 2.0711e-04\n",
      "Epoch 111/120\n",
      "12/12 [==============================] - 3s 222ms/step - loss: 0.0013 - val_loss: 2.3110e-04\n",
      "Epoch 112/120\n",
      "12/12 [==============================] - 3s 251ms/step - loss: 0.0012 - val_loss: 3.2211e-04\n",
      "Epoch 113/120\n",
      "12/12 [==============================] - 3s 254ms/step - loss: 0.0013 - val_loss: 2.2233e-04\n",
      "Epoch 114/120\n",
      "12/12 [==============================] - 3s 222ms/step - loss: 0.0015 - val_loss: 3.3411e-04\n",
      "Epoch 115/120\n",
      "12/12 [==============================] - 3s 212ms/step - loss: 0.0012 - val_loss: 2.0842e-04\n",
      "Epoch 116/120\n",
      "12/12 [==============================] - 2s 195ms/step - loss: 0.0012 - val_loss: 2.1072e-04\n",
      "Epoch 117/120\n",
      "12/12 [==============================] - 3s 219ms/step - loss: 0.0014 - val_loss: 2.2543e-04\n",
      "Epoch 118/120\n",
      "12/12 [==============================] - 3s 237ms/step - loss: 0.0011 - val_loss: 2.0885e-04\n",
      "Epoch 119/120\n",
      "12/12 [==============================] - 3s 242ms/step - loss: 0.0012 - val_loss: 3.1244e-04\n",
      "Epoch 120/120\n",
      "12/12 [==============================] - 3s 218ms/step - loss: 0.0013 - val_loss: 1.9862e-04\n"
     ]
    },
    {
     "data": {
      "text/plain": "<keras.callbacks.History at 0x243ea4a70a0>"
     },
     "execution_count": 172,
     "metadata": {},
     "output_type": "execute_result"
    }
   ],
   "source": [
    "model.fit(X_train,y_train,validation_data=(X_test,y_test),epochs=120,batch_size=64,verbose=1)"
   ],
   "metadata": {
    "collapsed": false
   }
  },
  {
   "cell_type": "code",
   "execution_count": 173,
   "outputs": [],
   "source": [
    "model.save('keras_model.h5')"
   ],
   "metadata": {
    "collapsed": false
   }
  },
  {
   "cell_type": "markdown",
   "source": [
    "Once the model is fit, we can estimate the performance of the model on the train and test dataset. This will give us a point of comparision for the new models.\n",
    "\n"
   ],
   "metadata": {
    "collapsed": false
   }
  },
  {
   "cell_type": "code",
   "execution_count": 175,
   "outputs": [
    {
     "name": "stdout",
     "output_type": "stream",
     "text": [
      "23/23 [==============================] - 1s 47ms/step\n",
      "11/11 [==============================] - 1s 47ms/step\n"
     ]
    }
   ],
   "source": [
    "## prediction and check the performance metrics\n",
    "train_predict = model.predict(X_train)\n",
    "test_predict = model.predict(X_test)\n"
   ],
   "metadata": {
    "collapsed": false
   }
  },
  {
   "cell_type": "code",
   "execution_count": null,
   "outputs": [],
   "source": [],
   "metadata": {
    "collapsed": false
   }
  },
  {
   "cell_type": "code",
   "execution_count": 176,
   "outputs": [],
   "source": [
    "# Transformback to the original form\n",
    "train_predict = scaler.inverse_transform(train_predict)\n",
    "test_predict = scaler.inverse_transform(test_predict)"
   ],
   "metadata": {
    "collapsed": false
   }
  },
  {
   "cell_type": "markdown",
   "source": [
    "### Error Calculation\n",
    "\n",
    "We see there is not much difference between the RMSE for test and train dataset so, our model is pretty accurate."
   ],
   "metadata": {
    "collapsed": false
   }
  },
  {
   "cell_type": "code",
   "execution_count": 177,
   "outputs": [
    {
     "data": {
      "text/plain": "236.5627194946898"
     },
     "execution_count": 177,
     "metadata": {},
     "output_type": "execute_result"
    }
   ],
   "source": [
    "#Calculate RMSE performance metric\n",
    "import math\n",
    "from sklearn.metrics import mean_squared_error\n",
    "math.sqrt(mean_squared_error(y_train,train_predict))"
   ],
   "metadata": {
    "collapsed": false
   }
  },
  {
   "cell_type": "code",
   "execution_count": 178,
   "outputs": [
    {
     "data": {
      "text/plain": "155.21949587028578"
     },
     "execution_count": 178,
     "metadata": {},
     "output_type": "execute_result"
    }
   ],
   "source": [
    "# Test Data RMSE\n",
    "math.sqrt(mean_squared_error(y_test,test_predict))"
   ],
   "metadata": {
    "collapsed": false
   }
  },
  {
   "cell_type": "markdown",
   "source": [
    "### Plotting the Data"
   ],
   "metadata": {
    "collapsed": false
   }
  },
  {
   "cell_type": "code",
   "execution_count": 179,
   "outputs": [
    {
     "data": {
      "text/plain": "<Figure size 432x288 with 1 Axes>",
      "image/png": "[encoded data removed]"
     },
     "metadata": {
      "needs_background": "light"
     },
     "output_type": "display_data"
    }
   ],
   "source": [
    "# Plotting\n",
    "# shift train predictions for plotting\n",
    "look_back = 100\n",
    "trainPredictPlot = np.empty_like(df1)\n",
    "trainPredictPlot[:,:] = np.nan\n",
    "trainPredictPlot[look_back:len(train_predict)+look_back,:] = train_predict\n",
    "# shift test predictions for plotting\n",
    "testPredictPlot = np.empty_like(df1)\n",
    "testPredictPlot[:,:] = np.nan\n",
    "testPredictPlot[len(train_predict)+(look_back*2)+1:len(df1)-1,:] =test_predict\n",
    "#plot baseline and predictions\n",
    "plt.plot(scaler.inverse_transform(df1))\n",
    "plt.plot(trainPredictPlot)\n",
    "plt.plot(testPredictPlot)\n",
    "plt.show()\n"
   ],
   "metadata": {
    "collapsed": false
   }
  },
  {
   "cell_type": "code",
   "execution_count": 180,
   "outputs": [],
   "source": [
    "import tensorflow as tf"
   ],
   "metadata": {
    "collapsed": false
   }
  },
  {
   "cell_type": "code",
   "execution_count": 181,
   "outputs": [
    {
     "data": {
      "text/plain": "440"
     },
     "execution_count": 181,
     "metadata": {},
     "output_type": "execute_result"
    }
   ],
   "source": [
    "len(test_data)"
   ],
   "metadata": {
    "collapsed": false
   }
  },
  {
   "cell_type": "code",
   "execution_count": 182,
   "outputs": [
    {
     "data": {
      "text/plain": "(1, 100)"
     },
     "execution_count": 182,
     "metadata": {},
     "output_type": "execute_result"
    }
   ],
   "source": [
    "x_input = test_data[340:].reshape(1,-1)\n",
    "x_input.shape"
   ],
   "metadata": {
    "collapsed": false
   }
  },
  {
   "cell_type": "code",
   "execution_count": 183,
   "outputs": [],
   "source": [
    "temp_input = list(x_input)\n",
    "temp_input = temp_input[0].tolist()"
   ],
   "metadata": {
    "collapsed": false
   }
  },
  {
   "cell_type": "code",
   "execution_count": 184,
   "outputs": [
    {
     "data": {
      "text/plain": "[0.09252348152786471,\n 0.10720100187852216,\n 0.10519724483406384,\n 0.10487163431433938,\n 0.11113337507827176,\n 0.09653099561678141,\n 0.09843456480901686,\n 0.10487163431433938,\n 0.10299311208515965,\n 0.0896681277395115,\n 0.07586725109580456,\n 0.0627175954915466,\n 0.06492172824045078,\n 0.07160926737633061,\n 0.05815904821540385,\n 0.061916092673763246,\n 0.0727113337507827,\n 0.07140889167188474,\n 0.07872260488415778,\n 0.08721352536005006,\n 0.08721352536005006,\n 0.07664370695053219,\n 0.08112711333750777,\n 0.07484032561051968,\n 0.08037570444583592,\n 0.08696305572949276,\n 0.09036944270507191,\n 0.09896055103318718,\n 0.10068879148403248,\n 0.09525360050093923,\n 0.0977332498434565,\n 0.09680651221039449,\n 0.10427050720100184,\n 0.10852849092047584,\n 0.1007639323731997,\n 0.11060738885410137,\n 0.11571696931747022,\n 0.12150281778334371,\n 0.1183469004383218,\n 0.11549154664996863,\n 0.11211020663744514,\n 0.12510958046336873,\n 0.12651221039448962,\n 0.139436443331246,\n 0.13693174702567307,\n 0.13317470256731367,\n 0.1485034439574201,\n 0.1477019411396368,\n 0.14654978083907322,\n 0.1453475266123982,\n 0.14547276142767684,\n 0.15629304946775202,\n 0.1544145272385723,\n 0.16345648090169063,\n 0.16618659987476514,\n 0.16578584846587346,\n 0.1695929868503444,\n 0.1685911083281152,\n 0.16200375704445835,\n 0.15211020663744512,\n 0.15125860989355033,\n 0.15201001878522225,\n 0.15827175954915462,\n 0.142216656230432,\n 0.1366061365059486,\n 0.13041953663118344,\n 0.12618659987476516,\n 0.12804007514088916,\n 0.1226549780839073,\n 0.1194489668127739,\n 0.12303068252974325,\n 0.1192736380713838,\n 0.12656230432060112,\n 0.14174076393237317,\n 0.1177207263619286,\n 0.12140262993112083,\n 0.11403882279273636,\n 0.10985597996242946,\n 0.11932373199749524,\n 0.1253850970569818,\n 0.1174201628052598,\n 0.11496556042579836,\n 0.10917971195992482,\n 0.11003130870381966,\n 0.11251095804633682,\n 0.10770194113963677,\n 0.08926737633061982,\n 0.07854727614276763,\n 0.08919223544145266,\n 0.09833437695679392,\n 0.09908578584846583,\n 0.09665623043206006,\n 0.08328115216030052,\n 0.08410770194113959,\n 0.08050093926111451,\n 0.07889793362554787,\n 0.09054477144646211,\n 0.07899812147777074,\n 0.08909204758922978,\n 0.0924483406386975]"
     },
     "execution_count": 184,
     "metadata": {},
     "output_type": "execute_result"
    }
   ],
   "source": [
    "temp_input"
   ],
   "metadata": {
    "collapsed": false
   }
  },
  {
   "cell_type": "markdown",
   "source": [
    "### Prediction for next 30 days."
   ],
   "metadata": {
    "collapsed": false
   }
  },
  {
   "cell_type": "code",
   "execution_count": 185,
   "outputs": [
    {
     "name": "stdout",
     "output_type": "stream",
     "text": [
      "[0.08760913]\n",
      "101\n",
      "1 day input [0.107201   0.10519724 0.10487163 0.11113338 0.096531   0.09843456\n",
      " 0.10487163 0.10299311 0.08966813 0.07586725 0.0627176  0.06492173\n",
      " 0.07160927 0.05815905 0.06191609 0.07271133 0.07140889 0.0787226\n",
      " 0.08721353 0.08721353 0.07664371 0.08112711 0.07484033 0.0803757\n",
      " 0.08696306 0.09036944 0.09896055 0.10068879 0.0952536  0.09773325\n",
      " 0.09680651 0.10427051 0.10852849 0.10076393 0.11060739 0.11571697\n",
      " 0.12150282 0.1183469  0.11549155 0.11211021 0.12510958 0.12651221\n",
      " 0.13943644 0.13693175 0.1331747  0.14850344 0.14770194 0.14654978\n",
      " 0.14534753 0.14547276 0.15629305 0.15441453 0.16345648 0.1661866\n",
      " 0.16578585 0.16959299 0.16859111 0.16200376 0.15211021 0.15125861\n",
      " 0.15201002 0.15827176 0.14221666 0.13660614 0.13041954 0.1261866\n",
      " 0.12804008 0.12265498 0.11944897 0.12303068 0.11927364 0.1265623\n",
      " 0.14174076 0.11772073 0.12140263 0.11403882 0.10985598 0.11932373\n",
      " 0.1253851  0.11742016 0.11496556 0.10917971 0.11003131 0.11251096\n",
      " 0.10770194 0.08926738 0.07854728 0.08919224 0.09833438 0.09908579\n",
      " 0.09665623 0.08328115 0.0841077  0.08050094 0.07889793 0.09054477\n",
      " 0.07899812 0.08909205 0.09244834 0.08760913]\n",
      "1 day output [[0.08760031]]\n",
      "2 day input [0.10519724 0.10487163 0.11113338 0.096531   0.09843456 0.10487163\n",
      " 0.10299311 0.08966813 0.07586725 0.0627176  0.06492173 0.07160927\n",
      " 0.05815905 0.06191609 0.07271133 0.07140889 0.0787226  0.08721353\n",
      " 0.08721353 0.07664371 0.08112711 0.07484033 0.0803757  0.08696306\n",
      " 0.09036944 0.09896055 0.10068879 0.0952536  0.09773325 0.09680651\n",
      " 0.10427051 0.10852849 0.10076393 0.11060739 0.11571697 0.12150282\n",
      " 0.1183469  0.11549155 0.11211021 0.12510958 0.12651221 0.13943644\n",
      " 0.13693175 0.1331747  0.14850344 0.14770194 0.14654978 0.14534753\n",
      " 0.14547276 0.15629305 0.15441453 0.16345648 0.1661866  0.16578585\n",
      " 0.16959299 0.16859111 0.16200376 0.15211021 0.15125861 0.15201002\n",
      " 0.15827176 0.14221666 0.13660614 0.13041954 0.1261866  0.12804008\n",
      " 0.12265498 0.11944897 0.12303068 0.11927364 0.1265623  0.14174076\n",
      " 0.11772073 0.12140263 0.11403882 0.10985598 0.11932373 0.1253851\n",
      " 0.11742016 0.11496556 0.10917971 0.11003131 0.11251096 0.10770194\n",
      " 0.08926738 0.07854728 0.08919224 0.09833438 0.09908579 0.09665623\n",
      " 0.08328115 0.0841077  0.08050094 0.07889793 0.09054477 0.07899812\n",
      " 0.08909205 0.09244834 0.08760913 0.08760031]\n",
      "2 day output [[0.08773864]]\n",
      "3 day input [0.10487163 0.11113338 0.096531   0.09843456 0.10487163 0.10299311\n",
      " 0.08966813 0.07586725 0.0627176  0.06492173 0.07160927 0.05815905\n",
      " 0.06191609 0.07271133 0.07140889 0.0787226  0.08721353 0.08721353\n",
      " 0.07664371 0.08112711 0.07484033 0.0803757  0.08696306 0.09036944\n",
      " 0.09896055 0.10068879 0.0952536  0.09773325 0.09680651 0.10427051\n",
      " 0.10852849 0.10076393 0.11060739 0.11571697 0.12150282 0.1183469\n",
      " 0.11549155 0.11211021 0.12510958 0.12651221 0.13943644 0.13693175\n",
      " 0.1331747  0.14850344 0.14770194 0.14654978 0.14534753 0.14547276\n",
      " 0.15629305 0.15441453 0.16345648 0.1661866  0.16578585 0.16959299\n",
      " 0.16859111 0.16200376 0.15211021 0.15125861 0.15201002 0.15827176\n",
      " 0.14221666 0.13660614 0.13041954 0.1261866  0.12804008 0.12265498\n",
      " 0.11944897 0.12303068 0.11927364 0.1265623  0.14174076 0.11772073\n",
      " 0.12140263 0.11403882 0.10985598 0.11932373 0.1253851  0.11742016\n",
      " 0.11496556 0.10917971 0.11003131 0.11251096 0.10770194 0.08926738\n",
      " 0.07854728 0.08919224 0.09833438 0.09908579 0.09665623 0.08328115\n",
      " 0.0841077  0.08050094 0.07889793 0.09054477 0.07899812 0.08909205\n",
      " 0.09244834 0.08760913 0.08760031 0.08773864]\n",
      "3 day output [[0.087923]]\n",
      "4 day input [0.11113338 0.096531   0.09843456 0.10487163 0.10299311 0.08966813\n",
      " 0.07586725 0.0627176  0.06492173 0.07160927 0.05815905 0.06191609\n",
      " 0.07271133 0.07140889 0.0787226  0.08721353 0.08721353 0.07664371\n",
      " 0.08112711 0.07484033 0.0803757  0.08696306 0.09036944 0.09896055\n",
      " 0.10068879 0.0952536  0.09773325 0.09680651 0.10427051 0.10852849\n",
      " 0.10076393 0.11060739 0.11571697 0.12150282 0.1183469  0.11549155\n",
      " 0.11211021 0.12510958 0.12651221 0.13943644 0.13693175 0.1331747\n",
      " 0.14850344 0.14770194 0.14654978 0.14534753 0.14547276 0.15629305\n",
      " 0.15441453 0.16345648 0.1661866  0.16578585 0.16959299 0.16859111\n",
      " 0.16200376 0.15211021 0.15125861 0.15201002 0.15827176 0.14221666\n",
      " 0.13660614 0.13041954 0.1261866  0.12804008 0.12265498 0.11944897\n",
      " 0.12303068 0.11927364 0.1265623  0.14174076 0.11772073 0.12140263\n",
      " 0.11403882 0.10985598 0.11932373 0.1253851  0.11742016 0.11496556\n",
      " 0.10917971 0.11003131 0.11251096 0.10770194 0.08926738 0.07854728\n",
      " 0.08919224 0.09833438 0.09908579 0.09665623 0.08328115 0.0841077\n",
      " 0.08050094 0.07889793 0.09054477 0.07899812 0.08909205 0.09244834\n",
      " 0.08760913 0.08760031 0.08773864 0.087923  ]\n",
      "4 day output [[0.08810772]]\n",
      "5 day input [0.096531   0.09843456 0.10487163 0.10299311 0.08966813 0.07586725\n",
      " 0.0627176  0.06492173 0.07160927 0.05815905 0.06191609 0.07271133\n",
      " 0.07140889 0.0787226  0.08721353 0.08721353 0.07664371 0.08112711\n",
      " 0.07484033 0.0803757  0.08696306 0.09036944 0.09896055 0.10068879\n",
      " 0.0952536  0.09773325 0.09680651 0.10427051 0.10852849 0.10076393\n",
      " 0.11060739 0.11571697 0.12150282 0.1183469  0.11549155 0.11211021\n",
      " 0.12510958 0.12651221 0.13943644 0.13693175 0.1331747  0.14850344\n",
      " 0.14770194 0.14654978 0.14534753 0.14547276 0.15629305 0.15441453\n",
      " 0.16345648 0.1661866  0.16578585 0.16959299 0.16859111 0.16200376\n",
      " 0.15211021 0.15125861 0.15201002 0.15827176 0.14221666 0.13660614\n",
      " 0.13041954 0.1261866  0.12804008 0.12265498 0.11944897 0.12303068\n",
      " 0.11927364 0.1265623  0.14174076 0.11772073 0.12140263 0.11403882\n",
      " 0.10985598 0.11932373 0.1253851  0.11742016 0.11496556 0.10917971\n",
      " 0.11003131 0.11251096 0.10770194 0.08926738 0.07854728 0.08919224\n",
      " 0.09833438 0.09908579 0.09665623 0.08328115 0.0841077  0.08050094\n",
      " 0.07889793 0.09054477 0.07899812 0.08909205 0.09244834 0.08760913\n",
      " 0.08760031 0.08773864 0.087923   0.08810772]\n",
      "5 day output [[0.08827711]]\n",
      "6 day input [0.09843456 0.10487163 0.10299311 0.08966813 0.07586725 0.0627176\n",
      " 0.06492173 0.07160927 0.05815905 0.06191609 0.07271133 0.07140889\n",
      " 0.0787226  0.08721353 0.08721353 0.07664371 0.08112711 0.07484033\n",
      " 0.0803757  0.08696306 0.09036944 0.09896055 0.10068879 0.0952536\n",
      " 0.09773325 0.09680651 0.10427051 0.10852849 0.10076393 0.11060739\n",
      " 0.11571697 0.12150282 0.1183469  0.11549155 0.11211021 0.12510958\n",
      " 0.12651221 0.13943644 0.13693175 0.1331747  0.14850344 0.14770194\n",
      " 0.14654978 0.14534753 0.14547276 0.15629305 0.15441453 0.16345648\n",
      " 0.1661866  0.16578585 0.16959299 0.16859111 0.16200376 0.15211021\n",
      " 0.15125861 0.15201002 0.15827176 0.14221666 0.13660614 0.13041954\n",
      " 0.1261866  0.12804008 0.12265498 0.11944897 0.12303068 0.11927364\n",
      " 0.1265623  0.14174076 0.11772073 0.12140263 0.11403882 0.10985598\n",
      " 0.11932373 0.1253851  0.11742016 0.11496556 0.10917971 0.11003131\n",
      " 0.11251096 0.10770194 0.08926738 0.07854728 0.08919224 0.09833438\n",
      " 0.09908579 0.09665623 0.08328115 0.0841077  0.08050094 0.07889793\n",
      " 0.09054477 0.07899812 0.08909205 0.09244834 0.08760913 0.08760031\n",
      " 0.08773864 0.087923   0.08810772 0.08827711]\n",
      "6 day output [[0.08842973]]\n",
      "7 day input [0.10487163 0.10299311 0.08966813 0.07586725 0.0627176  0.06492173\n",
      " 0.07160927 0.05815905 0.06191609 0.07271133 0.07140889 0.0787226\n",
      " 0.08721353 0.08721353 0.07664371 0.08112711 0.07484033 0.0803757\n",
      " 0.08696306 0.09036944 0.09896055 0.10068879 0.0952536  0.09773325\n",
      " 0.09680651 0.10427051 0.10852849 0.10076393 0.11060739 0.11571697\n",
      " 0.12150282 0.1183469  0.11549155 0.11211021 0.12510958 0.12651221\n",
      " 0.13943644 0.13693175 0.1331747  0.14850344 0.14770194 0.14654978\n",
      " 0.14534753 0.14547276 0.15629305 0.15441453 0.16345648 0.1661866\n",
      " 0.16578585 0.16959299 0.16859111 0.16200376 0.15211021 0.15125861\n",
      " 0.15201002 0.15827176 0.14221666 0.13660614 0.13041954 0.1261866\n",
      " 0.12804008 0.12265498 0.11944897 0.12303068 0.11927364 0.1265623\n",
      " 0.14174076 0.11772073 0.12140263 0.11403882 0.10985598 0.11932373\n",
      " 0.1253851  0.11742016 0.11496556 0.10917971 0.11003131 0.11251096\n",
      " 0.10770194 0.08926738 0.07854728 0.08919224 0.09833438 0.09908579\n",
      " 0.09665623 0.08328115 0.0841077  0.08050094 0.07889793 0.09054477\n",
      " 0.07899812 0.08909205 0.09244834 0.08760913 0.08760031 0.08773864\n",
      " 0.087923   0.08810772 0.08827711 0.08842973]\n",
      "7 day output [[0.0885696]]\n",
      "8 day input [0.10299311 0.08966813 0.07586725 0.0627176  0.06492173 0.07160927\n",
      " 0.05815905 0.06191609 0.07271133 0.07140889 0.0787226  0.08721353\n",
      " 0.08721353 0.07664371 0.08112711 0.07484033 0.0803757  0.08696306\n",
      " 0.09036944 0.09896055 0.10068879 0.0952536  0.09773325 0.09680651\n",
      " 0.10427051 0.10852849 0.10076393 0.11060739 0.11571697 0.12150282\n",
      " 0.1183469  0.11549155 0.11211021 0.12510958 0.12651221 0.13943644\n",
      " 0.13693175 0.1331747  0.14850344 0.14770194 0.14654978 0.14534753\n",
      " 0.14547276 0.15629305 0.15441453 0.16345648 0.1661866  0.16578585\n",
      " 0.16959299 0.16859111 0.16200376 0.15211021 0.15125861 0.15201002\n",
      " 0.15827176 0.14221666 0.13660614 0.13041954 0.1261866  0.12804008\n",
      " 0.12265498 0.11944897 0.12303068 0.11927364 0.1265623  0.14174076\n",
      " 0.11772073 0.12140263 0.11403882 0.10985598 0.11932373 0.1253851\n",
      " 0.11742016 0.11496556 0.10917971 0.11003131 0.11251096 0.10770194\n",
      " 0.08926738 0.07854728 0.08919224 0.09833438 0.09908579 0.09665623\n",
      " 0.08328115 0.0841077  0.08050094 0.07889793 0.09054477 0.07899812\n",
      " 0.08909205 0.09244834 0.08760913 0.08760031 0.08773864 0.087923\n",
      " 0.08810772 0.08827711 0.08842973 0.0885696 ]\n",
      "8 day output [[0.08870189]]\n",
      "9 day input [0.08966813 0.07586725 0.0627176  0.06492173 0.07160927 0.05815905\n",
      " 0.06191609 0.07271133 0.07140889 0.0787226  0.08721353 0.08721353\n",
      " 0.07664371 0.08112711 0.07484033 0.0803757  0.08696306 0.09036944\n",
      " 0.09896055 0.10068879 0.0952536  0.09773325 0.09680651 0.10427051\n",
      " 0.10852849 0.10076393 0.11060739 0.11571697 0.12150282 0.1183469\n",
      " 0.11549155 0.11211021 0.12510958 0.12651221 0.13943644 0.13693175\n",
      " 0.1331747  0.14850344 0.14770194 0.14654978 0.14534753 0.14547276\n",
      " 0.15629305 0.15441453 0.16345648 0.1661866  0.16578585 0.16959299\n",
      " 0.16859111 0.16200376 0.15211021 0.15125861 0.15201002 0.15827176\n",
      " 0.14221666 0.13660614 0.13041954 0.1261866  0.12804008 0.12265498\n",
      " 0.11944897 0.12303068 0.11927364 0.1265623  0.14174076 0.11772073\n",
      " 0.12140263 0.11403882 0.10985598 0.11932373 0.1253851  0.11742016\n",
      " 0.11496556 0.10917971 0.11003131 0.11251096 0.10770194 0.08926738\n",
      " 0.07854728 0.08919224 0.09833438 0.09908579 0.09665623 0.08328115\n",
      " 0.0841077  0.08050094 0.07889793 0.09054477 0.07899812 0.08909205\n",
      " 0.09244834 0.08760913 0.08760031 0.08773864 0.087923   0.08810772\n",
      " 0.08827711 0.08842973 0.0885696  0.08870189]\n",
      "9 day output [[0.08883122]]\n",
      "10 day input [0.07586725 0.0627176  0.06492173 0.07160927 0.05815905 0.06191609\n",
      " 0.07271133 0.07140889 0.0787226  0.08721353 0.08721353 0.07664371\n",
      " 0.08112711 0.07484033 0.0803757  0.08696306 0.09036944 0.09896055\n",
      " 0.10068879 0.0952536  0.09773325 0.09680651 0.10427051 0.10852849\n",
      " 0.10076393 0.11060739 0.11571697 0.12150282 0.1183469  0.11549155\n",
      " 0.11211021 0.12510958 0.12651221 0.13943644 0.13693175 0.1331747\n",
      " 0.14850344 0.14770194 0.14654978 0.14534753 0.14547276 0.15629305\n",
      " 0.15441453 0.16345648 0.1661866  0.16578585 0.16959299 0.16859111\n",
      " 0.16200376 0.15211021 0.15125861 0.15201002 0.15827176 0.14221666\n",
      " 0.13660614 0.13041954 0.1261866  0.12804008 0.12265498 0.11944897\n",
      " 0.12303068 0.11927364 0.1265623  0.14174076 0.11772073 0.12140263\n",
      " 0.11403882 0.10985598 0.11932373 0.1253851  0.11742016 0.11496556\n",
      " 0.10917971 0.11003131 0.11251096 0.10770194 0.08926738 0.07854728\n",
      " 0.08919224 0.09833438 0.09908579 0.09665623 0.08328115 0.0841077\n",
      " 0.08050094 0.07889793 0.09054477 0.07899812 0.08909205 0.09244834\n",
      " 0.08760913 0.08760031 0.08773864 0.087923   0.08810772 0.08827711\n",
      " 0.08842973 0.0885696  0.08870189 0.08883122]\n",
      "10 day output [[0.08896104]]\n",
      "11 day input [0.0627176  0.06492173 0.07160927 0.05815905 0.06191609 0.07271133\n",
      " 0.07140889 0.0787226  0.08721353 0.08721353 0.07664371 0.08112711\n",
      " 0.07484033 0.0803757  0.08696306 0.09036944 0.09896055 0.10068879\n",
      " 0.0952536  0.09773325 0.09680651 0.10427051 0.10852849 0.10076393\n",
      " 0.11060739 0.11571697 0.12150282 0.1183469  0.11549155 0.11211021\n",
      " 0.12510958 0.12651221 0.13943644 0.13693175 0.1331747  0.14850344\n",
      " 0.14770194 0.14654978 0.14534753 0.14547276 0.15629305 0.15441453\n",
      " 0.16345648 0.1661866  0.16578585 0.16959299 0.16859111 0.16200376\n",
      " 0.15211021 0.15125861 0.15201002 0.15827176 0.14221666 0.13660614\n",
      " 0.13041954 0.1261866  0.12804008 0.12265498 0.11944897 0.12303068\n",
      " 0.11927364 0.1265623  0.14174076 0.11772073 0.12140263 0.11403882\n",
      " 0.10985598 0.11932373 0.1253851  0.11742016 0.11496556 0.10917971\n",
      " 0.11003131 0.11251096 0.10770194 0.08926738 0.07854728 0.08919224\n",
      " 0.09833438 0.09908579 0.09665623 0.08328115 0.0841077  0.08050094\n",
      " 0.07889793 0.09054477 0.07899812 0.08909205 0.09244834 0.08760913\n",
      " 0.08760031 0.08773864 0.087923   0.08810772 0.08827711 0.08842973\n",
      " 0.0885696  0.08870189 0.08883122 0.08896104]\n",
      "11 day output [[0.08909371]]\n",
      "12 day input [0.06492173 0.07160927 0.05815905 0.06191609 0.07271133 0.07140889\n",
      " 0.0787226  0.08721353 0.08721353 0.07664371 0.08112711 0.07484033\n",
      " 0.0803757  0.08696306 0.09036944 0.09896055 0.10068879 0.0952536\n",
      " 0.09773325 0.09680651 0.10427051 0.10852849 0.10076393 0.11060739\n",
      " 0.11571697 0.12150282 0.1183469  0.11549155 0.11211021 0.12510958\n",
      " 0.12651221 0.13943644 0.13693175 0.1331747  0.14850344 0.14770194\n",
      " 0.14654978 0.14534753 0.14547276 0.15629305 0.15441453 0.16345648\n",
      " 0.1661866  0.16578585 0.16959299 0.16859111 0.16200376 0.15211021\n",
      " 0.15125861 0.15201002 0.15827176 0.14221666 0.13660614 0.13041954\n",
      " 0.1261866  0.12804008 0.12265498 0.11944897 0.12303068 0.11927364\n",
      " 0.1265623  0.14174076 0.11772073 0.12140263 0.11403882 0.10985598\n",
      " 0.11932373 0.1253851  0.11742016 0.11496556 0.10917971 0.11003131\n",
      " 0.11251096 0.10770194 0.08926738 0.07854728 0.08919224 0.09833438\n",
      " 0.09908579 0.09665623 0.08328115 0.0841077  0.08050094 0.07889793\n",
      " 0.09054477 0.07899812 0.08909205 0.09244834 0.08760913 0.08760031\n",
      " 0.08773864 0.087923   0.08810772 0.08827711 0.08842973 0.0885696\n",
      " 0.08870189 0.08883122 0.08896104 0.08909371]\n",
      "12 day output [[0.08923058]]\n",
      "13 day input [0.07160927 0.05815905 0.06191609 0.07271133 0.07140889 0.0787226\n",
      " 0.08721353 0.08721353 0.07664371 0.08112711 0.07484033 0.0803757\n",
      " 0.08696306 0.09036944 0.09896055 0.10068879 0.0952536  0.09773325\n",
      " 0.09680651 0.10427051 0.10852849 0.10076393 0.11060739 0.11571697\n",
      " 0.12150282 0.1183469  0.11549155 0.11211021 0.12510958 0.12651221\n",
      " 0.13943644 0.13693175 0.1331747  0.14850344 0.14770194 0.14654978\n",
      " 0.14534753 0.14547276 0.15629305 0.15441453 0.16345648 0.1661866\n",
      " 0.16578585 0.16959299 0.16859111 0.16200376 0.15211021 0.15125861\n",
      " 0.15201002 0.15827176 0.14221666 0.13660614 0.13041954 0.1261866\n",
      " 0.12804008 0.12265498 0.11944897 0.12303068 0.11927364 0.1265623\n",
      " 0.14174076 0.11772073 0.12140263 0.11403882 0.10985598 0.11932373\n",
      " 0.1253851  0.11742016 0.11496556 0.10917971 0.11003131 0.11251096\n",
      " 0.10770194 0.08926738 0.07854728 0.08919224 0.09833438 0.09908579\n",
      " 0.09665623 0.08328115 0.0841077  0.08050094 0.07889793 0.09054477\n",
      " 0.07899812 0.08909205 0.09244834 0.08760913 0.08760031 0.08773864\n",
      " 0.087923   0.08810772 0.08827711 0.08842973 0.0885696  0.08870189\n",
      " 0.08883122 0.08896104 0.08909371 0.08923058]\n",
      "13 day output [[0.08937234]]\n",
      "14 day input [0.05815905 0.06191609 0.07271133 0.07140889 0.0787226  0.08721353\n",
      " 0.08721353 0.07664371 0.08112711 0.07484033 0.0803757  0.08696306\n",
      " 0.09036944 0.09896055 0.10068879 0.0952536  0.09773325 0.09680651\n",
      " 0.10427051 0.10852849 0.10076393 0.11060739 0.11571697 0.12150282\n",
      " 0.1183469  0.11549155 0.11211021 0.12510958 0.12651221 0.13943644\n",
      " 0.13693175 0.1331747  0.14850344 0.14770194 0.14654978 0.14534753\n",
      " 0.14547276 0.15629305 0.15441453 0.16345648 0.1661866  0.16578585\n",
      " 0.16959299 0.16859111 0.16200376 0.15211021 0.15125861 0.15201002\n",
      " 0.15827176 0.14221666 0.13660614 0.13041954 0.1261866  0.12804008\n",
      " 0.12265498 0.11944897 0.12303068 0.11927364 0.1265623  0.14174076\n",
      " 0.11772073 0.12140263 0.11403882 0.10985598 0.11932373 0.1253851\n",
      " 0.11742016 0.11496556 0.10917971 0.11003131 0.11251096 0.10770194\n",
      " 0.08926738 0.07854728 0.08919224 0.09833438 0.09908579 0.09665623\n",
      " 0.08328115 0.0841077  0.08050094 0.07889793 0.09054477 0.07899812\n",
      " 0.08909205 0.09244834 0.08760913 0.08760031 0.08773864 0.087923\n",
      " 0.08810772 0.08827711 0.08842973 0.0885696  0.08870189 0.08883122\n",
      " 0.08896104 0.08909371 0.08923058 0.08937234]\n",
      "14 day output [[0.08951914]]\n",
      "15 day input [0.06191609 0.07271133 0.07140889 0.0787226  0.08721353 0.08721353\n",
      " 0.07664371 0.08112711 0.07484033 0.0803757  0.08696306 0.09036944\n",
      " 0.09896055 0.10068879 0.0952536  0.09773325 0.09680651 0.10427051\n",
      " 0.10852849 0.10076393 0.11060739 0.11571697 0.12150282 0.1183469\n",
      " 0.11549155 0.11211021 0.12510958 0.12651221 0.13943644 0.13693175\n",
      " 0.1331747  0.14850344 0.14770194 0.14654978 0.14534753 0.14547276\n",
      " 0.15629305 0.15441453 0.16345648 0.1661866  0.16578585 0.16959299\n",
      " 0.16859111 0.16200376 0.15211021 0.15125861 0.15201002 0.15827176\n",
      " 0.14221666 0.13660614 0.13041954 0.1261866  0.12804008 0.12265498\n",
      " 0.11944897 0.12303068 0.11927364 0.1265623  0.14174076 0.11772073\n",
      " 0.12140263 0.11403882 0.10985598 0.11932373 0.1253851  0.11742016\n",
      " 0.11496556 0.10917971 0.11003131 0.11251096 0.10770194 0.08926738\n",
      " 0.07854728 0.08919224 0.09833438 0.09908579 0.09665623 0.08328115\n",
      " 0.0841077  0.08050094 0.07889793 0.09054477 0.07899812 0.08909205\n",
      " 0.09244834 0.08760913 0.08760031 0.08773864 0.087923   0.08810772\n",
      " 0.08827711 0.08842973 0.0885696  0.08870189 0.08883122 0.08896104\n",
      " 0.08909371 0.08923058 0.08937234 0.08951914]\n",
      "15 day output [[0.08967073]]\n",
      "16 day input [0.07271133 0.07140889 0.0787226  0.08721353 0.08721353 0.07664371\n",
      " 0.08112711 0.07484033 0.0803757  0.08696306 0.09036944 0.09896055\n",
      " 0.10068879 0.0952536  0.09773325 0.09680651 0.10427051 0.10852849\n",
      " 0.10076393 0.11060739 0.11571697 0.12150282 0.1183469  0.11549155\n",
      " 0.11211021 0.12510958 0.12651221 0.13943644 0.13693175 0.1331747\n",
      " 0.14850344 0.14770194 0.14654978 0.14534753 0.14547276 0.15629305\n",
      " 0.15441453 0.16345648 0.1661866  0.16578585 0.16959299 0.16859111\n",
      " 0.16200376 0.15211021 0.15125861 0.15201002 0.15827176 0.14221666\n",
      " 0.13660614 0.13041954 0.1261866  0.12804008 0.12265498 0.11944897\n",
      " 0.12303068 0.11927364 0.1265623  0.14174076 0.11772073 0.12140263\n",
      " 0.11403882 0.10985598 0.11932373 0.1253851  0.11742016 0.11496556\n",
      " 0.10917971 0.11003131 0.11251096 0.10770194 0.08926738 0.07854728\n",
      " 0.08919224 0.09833438 0.09908579 0.09665623 0.08328115 0.0841077\n",
      " 0.08050094 0.07889793 0.09054477 0.07899812 0.08909205 0.09244834\n",
      " 0.08760913 0.08760031 0.08773864 0.087923   0.08810772 0.08827711\n",
      " 0.08842973 0.0885696  0.08870189 0.08883122 0.08896104 0.08909371\n",
      " 0.08923058 0.08937234 0.08951914 0.08967073]\n",
      "16 day output [[0.08982662]]\n",
      "17 day input [0.07140889 0.0787226  0.08721353 0.08721353 0.07664371 0.08112711\n",
      " 0.07484033 0.0803757  0.08696306 0.09036944 0.09896055 0.10068879\n",
      " 0.0952536  0.09773325 0.09680651 0.10427051 0.10852849 0.10076393\n",
      " 0.11060739 0.11571697 0.12150282 0.1183469  0.11549155 0.11211021\n",
      " 0.12510958 0.12651221 0.13943644 0.13693175 0.1331747  0.14850344\n",
      " 0.14770194 0.14654978 0.14534753 0.14547276 0.15629305 0.15441453\n",
      " 0.16345648 0.1661866  0.16578585 0.16959299 0.16859111 0.16200376\n",
      " 0.15211021 0.15125861 0.15201002 0.15827176 0.14221666 0.13660614\n",
      " 0.13041954 0.1261866  0.12804008 0.12265498 0.11944897 0.12303068\n",
      " 0.11927364 0.1265623  0.14174076 0.11772073 0.12140263 0.11403882\n",
      " 0.10985598 0.11932373 0.1253851  0.11742016 0.11496556 0.10917971\n",
      " 0.11003131 0.11251096 0.10770194 0.08926738 0.07854728 0.08919224\n",
      " 0.09833438 0.09908579 0.09665623 0.08328115 0.0841077  0.08050094\n",
      " 0.07889793 0.09054477 0.07899812 0.08909205 0.09244834 0.08760913\n",
      " 0.08760031 0.08773864 0.087923   0.08810772 0.08827711 0.08842973\n",
      " 0.0885696  0.08870189 0.08883122 0.08896104 0.08909371 0.08923058\n",
      " 0.08937234 0.08951914 0.08967073 0.08982662]\n",
      "17 day output [[0.08998618]]\n",
      "18 day input [0.0787226  0.08721353 0.08721353 0.07664371 0.08112711 0.07484033\n",
      " 0.0803757  0.08696306 0.09036944 0.09896055 0.10068879 0.0952536\n",
      " 0.09773325 0.09680651 0.10427051 0.10852849 0.10076393 0.11060739\n",
      " 0.11571697 0.12150282 0.1183469  0.11549155 0.11211021 0.12510958\n",
      " 0.12651221 0.13943644 0.13693175 0.1331747  0.14850344 0.14770194\n",
      " 0.14654978 0.14534753 0.14547276 0.15629305 0.15441453 0.16345648\n",
      " 0.1661866  0.16578585 0.16959299 0.16859111 0.16200376 0.15211021\n",
      " 0.15125861 0.15201002 0.15827176 0.14221666 0.13660614 0.13041954\n",
      " 0.1261866  0.12804008 0.12265498 0.11944897 0.12303068 0.11927364\n",
      " 0.1265623  0.14174076 0.11772073 0.12140263 0.11403882 0.10985598\n",
      " 0.11932373 0.1253851  0.11742016 0.11496556 0.10917971 0.11003131\n",
      " 0.11251096 0.10770194 0.08926738 0.07854728 0.08919224 0.09833438\n",
      " 0.09908579 0.09665623 0.08328115 0.0841077  0.08050094 0.07889793\n",
      " 0.09054477 0.07899812 0.08909205 0.09244834 0.08760913 0.08760031\n",
      " 0.08773864 0.087923   0.08810772 0.08827711 0.08842973 0.0885696\n",
      " 0.08870189 0.08883122 0.08896104 0.08909371 0.08923058 0.08937234\n",
      " 0.08951914 0.08967073 0.08982662 0.08998618]\n",
      "18 day output [[0.09014869]]\n",
      "19 day input [0.08721353 0.08721353 0.07664371 0.08112711 0.07484033 0.0803757\n",
      " 0.08696306 0.09036944 0.09896055 0.10068879 0.0952536  0.09773325\n",
      " 0.09680651 0.10427051 0.10852849 0.10076393 0.11060739 0.11571697\n",
      " 0.12150282 0.1183469  0.11549155 0.11211021 0.12510958 0.12651221\n",
      " 0.13943644 0.13693175 0.1331747  0.14850344 0.14770194 0.14654978\n",
      " 0.14534753 0.14547276 0.15629305 0.15441453 0.16345648 0.1661866\n",
      " 0.16578585 0.16959299 0.16859111 0.16200376 0.15211021 0.15125861\n",
      " 0.15201002 0.15827176 0.14221666 0.13660614 0.13041954 0.1261866\n",
      " 0.12804008 0.12265498 0.11944897 0.12303068 0.11927364 0.1265623\n",
      " 0.14174076 0.11772073 0.12140263 0.11403882 0.10985598 0.11932373\n",
      " 0.1253851  0.11742016 0.11496556 0.10917971 0.11003131 0.11251096\n",
      " 0.10770194 0.08926738 0.07854728 0.08919224 0.09833438 0.09908579\n",
      " 0.09665623 0.08328115 0.0841077  0.08050094 0.07889793 0.09054477\n",
      " 0.07899812 0.08909205 0.09244834 0.08760913 0.08760031 0.08773864\n",
      " 0.087923   0.08810772 0.08827711 0.08842973 0.0885696  0.08870189\n",
      " 0.08883122 0.08896104 0.08909371 0.08923058 0.08937234 0.08951914\n",
      " 0.08967073 0.08982662 0.08998618 0.09014869]\n",
      "19 day output [[0.09031344]]\n",
      "20 day input [0.08721353 0.07664371 0.08112711 0.07484033 0.0803757  0.08696306\n",
      " 0.09036944 0.09896055 0.10068879 0.0952536  0.09773325 0.09680651\n",
      " 0.10427051 0.10852849 0.10076393 0.11060739 0.11571697 0.12150282\n",
      " 0.1183469  0.11549155 0.11211021 0.12510958 0.12651221 0.13943644\n",
      " 0.13693175 0.1331747  0.14850344 0.14770194 0.14654978 0.14534753\n",
      " 0.14547276 0.15629305 0.15441453 0.16345648 0.1661866  0.16578585\n",
      " 0.16959299 0.16859111 0.16200376 0.15211021 0.15125861 0.15201002\n",
      " 0.15827176 0.14221666 0.13660614 0.13041954 0.1261866  0.12804008\n",
      " 0.12265498 0.11944897 0.12303068 0.11927364 0.1265623  0.14174076\n",
      " 0.11772073 0.12140263 0.11403882 0.10985598 0.11932373 0.1253851\n",
      " 0.11742016 0.11496556 0.10917971 0.11003131 0.11251096 0.10770194\n",
      " 0.08926738 0.07854728 0.08919224 0.09833438 0.09908579 0.09665623\n",
      " 0.08328115 0.0841077  0.08050094 0.07889793 0.09054477 0.07899812\n",
      " 0.08909205 0.09244834 0.08760913 0.08760031 0.08773864 0.087923\n",
      " 0.08810772 0.08827711 0.08842973 0.0885696  0.08870189 0.08883122\n",
      " 0.08896104 0.08909371 0.08923058 0.08937234 0.08951914 0.08967073\n",
      " 0.08982662 0.08998618 0.09014869 0.09031344]\n",
      "20 day output [[0.09047973]]\n",
      "21 day input [0.07664371 0.08112711 0.07484033 0.0803757  0.08696306 0.09036944\n",
      " 0.09896055 0.10068879 0.0952536  0.09773325 0.09680651 0.10427051\n",
      " 0.10852849 0.10076393 0.11060739 0.11571697 0.12150282 0.1183469\n",
      " 0.11549155 0.11211021 0.12510958 0.12651221 0.13943644 0.13693175\n",
      " 0.1331747  0.14850344 0.14770194 0.14654978 0.14534753 0.14547276\n",
      " 0.15629305 0.15441453 0.16345648 0.1661866  0.16578585 0.16959299\n",
      " 0.16859111 0.16200376 0.15211021 0.15125861 0.15201002 0.15827176\n",
      " 0.14221666 0.13660614 0.13041954 0.1261866  0.12804008 0.12265498\n",
      " 0.11944897 0.12303068 0.11927364 0.1265623  0.14174076 0.11772073\n",
      " 0.12140263 0.11403882 0.10985598 0.11932373 0.1253851  0.11742016\n",
      " 0.11496556 0.10917971 0.11003131 0.11251096 0.10770194 0.08926738\n",
      " 0.07854728 0.08919224 0.09833438 0.09908579 0.09665623 0.08328115\n",
      " 0.0841077  0.08050094 0.07889793 0.09054477 0.07899812 0.08909205\n",
      " 0.09244834 0.08760913 0.08760031 0.08773864 0.087923   0.08810772\n",
      " 0.08827711 0.08842973 0.0885696  0.08870189 0.08883122 0.08896104\n",
      " 0.08909371 0.08923058 0.08937234 0.08951914 0.08967073 0.08982662\n",
      " 0.08998618 0.09014869 0.09031344 0.09047973]\n",
      "21 day output [[0.09064689]]\n",
      "22 day input [0.08112711 0.07484033 0.0803757  0.08696306 0.09036944 0.09896055\n",
      " 0.10068879 0.0952536  0.09773325 0.09680651 0.10427051 0.10852849\n",
      " 0.10076393 0.11060739 0.11571697 0.12150282 0.1183469  0.11549155\n",
      " 0.11211021 0.12510958 0.12651221 0.13943644 0.13693175 0.1331747\n",
      " 0.14850344 0.14770194 0.14654978 0.14534753 0.14547276 0.15629305\n",
      " 0.15441453 0.16345648 0.1661866  0.16578585 0.16959299 0.16859111\n",
      " 0.16200376 0.15211021 0.15125861 0.15201002 0.15827176 0.14221666\n",
      " 0.13660614 0.13041954 0.1261866  0.12804008 0.12265498 0.11944897\n",
      " 0.12303068 0.11927364 0.1265623  0.14174076 0.11772073 0.12140263\n",
      " 0.11403882 0.10985598 0.11932373 0.1253851  0.11742016 0.11496556\n",
      " 0.10917971 0.11003131 0.11251096 0.10770194 0.08926738 0.07854728\n",
      " 0.08919224 0.09833438 0.09908579 0.09665623 0.08328115 0.0841077\n",
      " 0.08050094 0.07889793 0.09054477 0.07899812 0.08909205 0.09244834\n",
      " 0.08760913 0.08760031 0.08773864 0.087923   0.08810772 0.08827711\n",
      " 0.08842973 0.0885696  0.08870189 0.08883122 0.08896104 0.08909371\n",
      " 0.08923058 0.08937234 0.08951914 0.08967073 0.08982662 0.08998618\n",
      " 0.09014869 0.09031344 0.09047973 0.09064689]\n",
      "22 day output [[0.09081441]]\n",
      "23 day input [0.07484033 0.0803757  0.08696306 0.09036944 0.09896055 0.10068879\n",
      " 0.0952536  0.09773325 0.09680651 0.10427051 0.10852849 0.10076393\n",
      " 0.11060739 0.11571697 0.12150282 0.1183469  0.11549155 0.11211021\n",
      " 0.12510958 0.12651221 0.13943644 0.13693175 0.1331747  0.14850344\n",
      " 0.14770194 0.14654978 0.14534753 0.14547276 0.15629305 0.15441453\n",
      " 0.16345648 0.1661866  0.16578585 0.16959299 0.16859111 0.16200376\n",
      " 0.15211021 0.15125861 0.15201002 0.15827176 0.14221666 0.13660614\n",
      " 0.13041954 0.1261866  0.12804008 0.12265498 0.11944897 0.12303068\n",
      " 0.11927364 0.1265623  0.14174076 0.11772073 0.12140263 0.11403882\n",
      " 0.10985598 0.11932373 0.1253851  0.11742016 0.11496556 0.10917971\n",
      " 0.11003131 0.11251096 0.10770194 0.08926738 0.07854728 0.08919224\n",
      " 0.09833438 0.09908579 0.09665623 0.08328115 0.0841077  0.08050094\n",
      " 0.07889793 0.09054477 0.07899812 0.08909205 0.09244834 0.08760913\n",
      " 0.08760031 0.08773864 0.087923   0.08810772 0.08827711 0.08842973\n",
      " 0.0885696  0.08870189 0.08883122 0.08896104 0.08909371 0.08923058\n",
      " 0.08937234 0.08951914 0.08967073 0.08982662 0.08998618 0.09014869\n",
      " 0.09031344 0.09047973 0.09064689 0.09081441]\n",
      "23 day output [[0.09098183]]\n",
      "24 day input [0.0803757  0.08696306 0.09036944 0.09896055 0.10068879 0.0952536\n",
      " 0.09773325 0.09680651 0.10427051 0.10852849 0.10076393 0.11060739\n",
      " 0.11571697 0.12150282 0.1183469  0.11549155 0.11211021 0.12510958\n",
      " 0.12651221 0.13943644 0.13693175 0.1331747  0.14850344 0.14770194\n",
      " 0.14654978 0.14534753 0.14547276 0.15629305 0.15441453 0.16345648\n",
      " 0.1661866  0.16578585 0.16959299 0.16859111 0.16200376 0.15211021\n",
      " 0.15125861 0.15201002 0.15827176 0.14221666 0.13660614 0.13041954\n",
      " 0.1261866  0.12804008 0.12265498 0.11944897 0.12303068 0.11927364\n",
      " 0.1265623  0.14174076 0.11772073 0.12140263 0.11403882 0.10985598\n",
      " 0.11932373 0.1253851  0.11742016 0.11496556 0.10917971 0.11003131\n",
      " 0.11251096 0.10770194 0.08926738 0.07854728 0.08919224 0.09833438\n",
      " 0.09908579 0.09665623 0.08328115 0.0841077  0.08050094 0.07889793\n",
      " 0.09054477 0.07899812 0.08909205 0.09244834 0.08760913 0.08760031\n",
      " 0.08773864 0.087923   0.08810772 0.08827711 0.08842973 0.0885696\n",
      " 0.08870189 0.08883122 0.08896104 0.08909371 0.08923058 0.08937234\n",
      " 0.08951914 0.08967073 0.08982662 0.08998618 0.09014869 0.09031344\n",
      " 0.09047973 0.09064689 0.09081441 0.09098183]\n",
      "24 day output [[0.09114873]]\n",
      "25 day input [0.08696306 0.09036944 0.09896055 0.10068879 0.0952536  0.09773325\n",
      " 0.09680651 0.10427051 0.10852849 0.10076393 0.11060739 0.11571697\n",
      " 0.12150282 0.1183469  0.11549155 0.11211021 0.12510958 0.12651221\n",
      " 0.13943644 0.13693175 0.1331747  0.14850344 0.14770194 0.14654978\n",
      " 0.14534753 0.14547276 0.15629305 0.15441453 0.16345648 0.1661866\n",
      " 0.16578585 0.16959299 0.16859111 0.16200376 0.15211021 0.15125861\n",
      " 0.15201002 0.15827176 0.14221666 0.13660614 0.13041954 0.1261866\n",
      " 0.12804008 0.12265498 0.11944897 0.12303068 0.11927364 0.1265623\n",
      " 0.14174076 0.11772073 0.12140263 0.11403882 0.10985598 0.11932373\n",
      " 0.1253851  0.11742016 0.11496556 0.10917971 0.11003131 0.11251096\n",
      " 0.10770194 0.08926738 0.07854728 0.08919224 0.09833438 0.09908579\n",
      " 0.09665623 0.08328115 0.0841077  0.08050094 0.07889793 0.09054477\n",
      " 0.07899812 0.08909205 0.09244834 0.08760913 0.08760031 0.08773864\n",
      " 0.087923   0.08810772 0.08827711 0.08842973 0.0885696  0.08870189\n",
      " 0.08883122 0.08896104 0.08909371 0.08923058 0.08937234 0.08951914\n",
      " 0.08967073 0.08982662 0.08998618 0.09014869 0.09031344 0.09047973\n",
      " 0.09064689 0.09081441 0.09098183 0.09114873]\n",
      "25 day output [[0.09131487]]\n",
      "26 day input [0.09036944 0.09896055 0.10068879 0.0952536  0.09773325 0.09680651\n",
      " 0.10427051 0.10852849 0.10076393 0.11060739 0.11571697 0.12150282\n",
      " 0.1183469  0.11549155 0.11211021 0.12510958 0.12651221 0.13943644\n",
      " 0.13693175 0.1331747  0.14850344 0.14770194 0.14654978 0.14534753\n",
      " 0.14547276 0.15629305 0.15441453 0.16345648 0.1661866  0.16578585\n",
      " 0.16959299 0.16859111 0.16200376 0.15211021 0.15125861 0.15201002\n",
      " 0.15827176 0.14221666 0.13660614 0.13041954 0.1261866  0.12804008\n",
      " 0.12265498 0.11944897 0.12303068 0.11927364 0.1265623  0.14174076\n",
      " 0.11772073 0.12140263 0.11403882 0.10985598 0.11932373 0.1253851\n",
      " 0.11742016 0.11496556 0.10917971 0.11003131 0.11251096 0.10770194\n",
      " 0.08926738 0.07854728 0.08919224 0.09833438 0.09908579 0.09665623\n",
      " 0.08328115 0.0841077  0.08050094 0.07889793 0.09054477 0.07899812\n",
      " 0.08909205 0.09244834 0.08760913 0.08760031 0.08773864 0.087923\n",
      " 0.08810772 0.08827711 0.08842973 0.0885696  0.08870189 0.08883122\n",
      " 0.08896104 0.08909371 0.08923058 0.08937234 0.08951914 0.08967073\n",
      " 0.08982662 0.08998618 0.09014869 0.09031344 0.09047973 0.09064689\n",
      " 0.09081441 0.09098183 0.09114873 0.09131487]\n",
      "26 day output [[0.09148001]]\n",
      "27 day input [0.09896055 0.10068879 0.0952536  0.09773325 0.09680651 0.10427051\n",
      " 0.10852849 0.10076393 0.11060739 0.11571697 0.12150282 0.1183469\n",
      " 0.11549155 0.11211021 0.12510958 0.12651221 0.13943644 0.13693175\n",
      " 0.1331747  0.14850344 0.14770194 0.14654978 0.14534753 0.14547276\n",
      " 0.15629305 0.15441453 0.16345648 0.1661866  0.16578585 0.16959299\n",
      " 0.16859111 0.16200376 0.15211021 0.15125861 0.15201002 0.15827176\n",
      " 0.14221666 0.13660614 0.13041954 0.1261866  0.12804008 0.12265498\n",
      " 0.11944897 0.12303068 0.11927364 0.1265623  0.14174076 0.11772073\n",
      " 0.12140263 0.11403882 0.10985598 0.11932373 0.1253851  0.11742016\n",
      " 0.11496556 0.10917971 0.11003131 0.11251096 0.10770194 0.08926738\n",
      " 0.07854728 0.08919224 0.09833438 0.09908579 0.09665623 0.08328115\n",
      " 0.0841077  0.08050094 0.07889793 0.09054477 0.07899812 0.08909205\n",
      " 0.09244834 0.08760913 0.08760031 0.08773864 0.087923   0.08810772\n",
      " 0.08827711 0.08842973 0.0885696  0.08870189 0.08883122 0.08896104\n",
      " 0.08909371 0.08923058 0.08937234 0.08951914 0.08967073 0.08982662\n",
      " 0.08998618 0.09014869 0.09031344 0.09047973 0.09064689 0.09081441\n",
      " 0.09098183 0.09114873 0.09131487 0.09148001]\n",
      "27 day output [[0.091644]]\n",
      "28 day input [0.10068879 0.0952536  0.09773325 0.09680651 0.10427051 0.10852849\n",
      " 0.10076393 0.11060739 0.11571697 0.12150282 0.1183469  0.11549155\n",
      " 0.11211021 0.12510958 0.12651221 0.13943644 0.13693175 0.1331747\n",
      " 0.14850344 0.14770194 0.14654978 0.14534753 0.14547276 0.15629305\n",
      " 0.15441453 0.16345648 0.1661866  0.16578585 0.16959299 0.16859111\n",
      " 0.16200376 0.15211021 0.15125861 0.15201002 0.15827176 0.14221666\n",
      " 0.13660614 0.13041954 0.1261866  0.12804008 0.12265498 0.11944897\n",
      " 0.12303068 0.11927364 0.1265623  0.14174076 0.11772073 0.12140263\n",
      " 0.11403882 0.10985598 0.11932373 0.1253851  0.11742016 0.11496556\n",
      " 0.10917971 0.11003131 0.11251096 0.10770194 0.08926738 0.07854728\n",
      " 0.08919224 0.09833438 0.09908579 0.09665623 0.08328115 0.0841077\n",
      " 0.08050094 0.07889793 0.09054477 0.07899812 0.08909205 0.09244834\n",
      " 0.08760913 0.08760031 0.08773864 0.087923   0.08810772 0.08827711\n",
      " 0.08842973 0.0885696  0.08870189 0.08883122 0.08896104 0.08909371\n",
      " 0.08923058 0.08937234 0.08951914 0.08967073 0.08982662 0.08998618\n",
      " 0.09014869 0.09031344 0.09047973 0.09064689 0.09081441 0.09098183\n",
      " 0.09114873 0.09131487 0.09148001 0.091644  ]\n",
      "28 day output [[0.09180677]]\n",
      "29 day input [0.0952536  0.09773325 0.09680651 0.10427051 0.10852849 0.10076393\n",
      " 0.11060739 0.11571697 0.12150282 0.1183469  0.11549155 0.11211021\n",
      " 0.12510958 0.12651221 0.13943644 0.13693175 0.1331747  0.14850344\n",
      " 0.14770194 0.14654978 0.14534753 0.14547276 0.15629305 0.15441453\n",
      " 0.16345648 0.1661866  0.16578585 0.16959299 0.16859111 0.16200376\n",
      " 0.15211021 0.15125861 0.15201002 0.15827176 0.14221666 0.13660614\n",
      " 0.13041954 0.1261866  0.12804008 0.12265498 0.11944897 0.12303068\n",
      " 0.11927364 0.1265623  0.14174076 0.11772073 0.12140263 0.11403882\n",
      " 0.10985598 0.11932373 0.1253851  0.11742016 0.11496556 0.10917971\n",
      " 0.11003131 0.11251096 0.10770194 0.08926738 0.07854728 0.08919224\n",
      " 0.09833438 0.09908579 0.09665623 0.08328115 0.0841077  0.08050094\n",
      " 0.07889793 0.09054477 0.07899812 0.08909205 0.09244834 0.08760913\n",
      " 0.08760031 0.08773864 0.087923   0.08810772 0.08827711 0.08842973\n",
      " 0.0885696  0.08870189 0.08883122 0.08896104 0.08909371 0.08923058\n",
      " 0.08937234 0.08951914 0.08967073 0.08982662 0.08998618 0.09014869\n",
      " 0.09031344 0.09047973 0.09064689 0.09081441 0.09098183 0.09114873\n",
      " 0.09131487 0.09148001 0.091644   0.09180677]\n",
      "29 day output [[0.09196823]]\n",
      "[[0.08760912716388702], [0.08760030567646027], [0.08773864060640335], [0.08792299777269363], [0.08810772001743317], [0.08827710896730423], [0.08842973411083221], [0.08856959640979767], [0.08870188891887665], [0.08883122354745865], [0.08896104246377945], [0.08909371495246887], [0.08923058211803436], [0.08937234431505203], [0.08951914310455322], [0.08967073261737823], [0.08982662111520767], [0.08998618274927139], [0.0901486873626709], [0.09031344205141068], [0.09047973155975342], [0.090646892786026], [0.09081441164016724], [0.09098183363676071], [0.0911487340927124], [0.0913148745894432], [0.09148000925779343], [0.09164400398731232], [0.09180676937103271], [0.09196823090314865]]\n"
     ]
    }
   ],
   "source": [
    "#demonstrate prediction for next 30 days\n",
    "from numpy import array\n",
    "lst_output = []\n",
    "n_steps=100\n",
    "i=0\n",
    "while i<30:\n",
    "    if (len(temp_input)>100):\n",
    "        x_input = np.array(temp_input[1:])\n",
    "        print(\"{} day input {}\".format(i,x_input))\n",
    "        x_input = x_input.reshape(1,-1)\n",
    "        x_input = x_input.reshape(1,n_steps,1)\n",
    "        #print (x_input)\n",
    "        yhat = model.predict(x_input,verbose=0)\n",
    "        print(\"{} day output {}\".format(i,yhat))\n",
    "        temp_input.extend(yhat[0].tolist())\n",
    "        temp_input = temp_input[1:]\n",
    "        lst_output.extend(yhat.tolist())\n",
    "        i = i+1\n",
    "    else:\n",
    "        x_input = x_input.reshape((1,n_steps,1))\n",
    "        yhat = model.predict(x_input,verbose=0)\n",
    "        print(yhat[0])\n",
    "        temp_input.extend(yhat[0].tolist())\n",
    "        print(len(temp_input))\n",
    "        lst_output.extend(yhat.tolist())\n",
    "        i=i+1\n",
    "print(lst_output)"
   ],
   "metadata": {
    "collapsed": false
   }
  },
  {
   "cell_type": "code",
   "execution_count": 186,
   "outputs": [
    {
     "data": {
      "text/plain": "1257"
     },
     "execution_count": 186,
     "metadata": {},
     "output_type": "execute_result"
    }
   ],
   "source": [
    "len(df1)"
   ],
   "metadata": {
    "collapsed": false
   }
  },
  {
   "cell_type": "code",
   "execution_count": 187,
   "outputs": [
    {
     "data": {
      "text/plain": "[<matplotlib.lines.Line2D at 0x243f05c11c0>]"
     },
     "execution_count": 187,
     "metadata": {},
     "output_type": "execute_result"
    },
    {
     "data": {
      "text/plain": "<Figure size 432x288 with 1 Axes>",
      "image/png": "[encoded data removed]"
     },
     "metadata": {
      "needs_background": "light"
     },
     "output_type": "display_data"
    }
   ],
   "source": [
    "day_new = np.arange(1,101)\n",
    "day_pred = np.arange(101,131)\n",
    "plt.plot(day_new,scaler.inverse_transform(df1[1157:]))\n",
    "plt.plot(day_pred,scaler.inverse_transform(lst_output))"
   ],
   "metadata": {
    "collapsed": false
   }
  },
  {
   "cell_type": "code",
   "execution_count": 188,
   "outputs": [
    {
     "data": {
      "text/plain": "(100,)"
     },
     "execution_count": 188,
     "metadata": {},
     "output_type": "execute_result"
    }
   ],
   "source": [
    "day_new.shape"
   ],
   "metadata": {
    "collapsed": false
   }
  },
  {
   "cell_type": "code",
   "execution_count": 189,
   "outputs": [
    {
     "data": {
      "text/plain": "array([  1,   2,   3,   4,   5,   6,   7,   8,   9,  10,  11,  12,  13,\n        14,  15,  16,  17,  18,  19,  20,  21,  22,  23,  24,  25,  26,\n        27,  28,  29,  30,  31,  32,  33,  34,  35,  36,  37,  38,  39,\n        40,  41,  42,  43,  44,  45,  46,  47,  48,  49,  50,  51,  52,\n        53,  54,  55,  56,  57,  58,  59,  60,  61,  62,  63,  64,  65,\n        66,  67,  68,  69,  70,  71,  72,  73,  74,  75,  76,  77,  78,\n        79,  80,  81,  82,  83,  84,  85,  86,  87,  88,  89,  90,  91,\n        92,  93,  94,  95,  96,  97,  98,  99, 100])"
     },
     "execution_count": 189,
     "metadata": {},
     "output_type": "execute_result"
    }
   ],
   "source": [
    "day_new"
   ],
   "metadata": {
    "collapsed": false
   }
  },
  {
   "cell_type": "code",
   "execution_count": 190,
   "outputs": [
    {
     "data": {
      "text/plain": "(1257, 1)"
     },
     "execution_count": 190,
     "metadata": {},
     "output_type": "execute_result"
    }
   ],
   "source": [
    "df1.shape"
   ],
   "metadata": {
    "collapsed": false
   }
  },
  {
   "cell_type": "code",
   "execution_count": 191,
   "outputs": [
    {
     "data": {
      "text/plain": "1257"
     },
     "execution_count": 191,
     "metadata": {},
     "output_type": "execute_result"
    }
   ],
   "source": [
    "len(df1)"
   ],
   "metadata": {
    "collapsed": false
   }
  },
  {
   "cell_type": "code",
   "execution_count": 192,
   "outputs": [
    {
     "data": {
      "text/plain": "[<matplotlib.lines.Line2D at 0x243f380ba30>]"
     },
     "execution_count": 192,
     "metadata": {},
     "output_type": "execute_result"
    },
    {
     "data": {
      "text/plain": "<Figure size 432x288 with 1 Axes>",
      "image/png": "[encoded data removed]"
     },
     "metadata": {
      "needs_background": "light"
     },
     "output_type": "display_data"
    }
   ],
   "source": [
    "plt.plot(day_new,scaler.inverse_transform(df1[1157:]))\n",
    "plt.plot(day_pred,scaler.inverse_transform(lst_output))"
   ],
   "metadata": {
    "collapsed": false
   }
  },
  {
   "cell_type": "code",
   "execution_count": 193,
   "outputs": [
    {
     "data": {
      "text/plain": "[<matplotlib.lines.Line2D at 0x243f3883c10>]"
     },
     "execution_count": 193,
     "metadata": {},
     "output_type": "execute_result"
    },
    {
     "data": {
      "text/plain": "<Figure size 432x288 with 1 Axes>",
      "image/png": "[encoded data removed]"
     },
     "metadata": {
      "needs_background": "light"
     },
     "output_type": "display_data"
    }
   ],
   "source": [
    "df3 = df1.tolist()\n",
    "df3.extend(lst_output)\n",
    "plt.plot(df3[1200:])"
   ],
   "metadata": {
    "collapsed": false
   }
  },
  {
   "cell_type": "code",
   "execution_count": null,
   "outputs": [],
   "source": [
    "!pip install streamlit"
   ],
   "metadata": {
    "collapsed": false
   }
  },
  {
   "cell_type": "code",
   "execution_count": null,
   "outputs": [],
   "source": [],
   "metadata": {
    "collapsed": false
   }
  }
 ],
 "metadata": {
  "kernelspec": {
   "display_name": "Python 3",
   "language": "python",
   "name": "python3"
  },
  "language_info": {
   "codemirror_mode": {
    "name": "ipython",
    "version": 2
   },
   "file_extension": ".py",
   "mimetype": "text/x-python",
   "name": "python",
   "nbconvert_exporter": "python",
   "pygments_lexer": "ipython2",
   "version": "2.7.6"
  }
 },
 "nbformat": 4,
 "nbformat_minor": 0
}
